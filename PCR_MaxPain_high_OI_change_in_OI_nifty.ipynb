{
  "nbformat": 4,
  "nbformat_minor": 0,
  "metadata": {
    "colab": {
      "name": "PCR_MaxPain_high OI_change_in_OI_nifty.ipynb",
      "provenance": [],
      "include_colab_link": true
    },
    "kernelspec": {
      "name": "python3",
      "display_name": "Python 3"
    }
  },
  "cells": [
    {
      "cell_type": "markdown",
      "metadata": {
        "id": "view-in-github",
        "colab_type": "text"
      },
      "source": [
        "<a href=\"https://colab.research.google.com/github/jesvin1/Basics/blob/master/PCR_MaxPain_high_OI_change_in_OI_nifty.ipynb\" target=\"_parent\"><img src=\"https://colab.research.google.com/assets/colab-badge.svg\" alt=\"Open In Colab\"/></a>"
      ]
    },
    {
      "cell_type": "markdown",
      "metadata": {
        "id": "EvqjxE8QhinG",
        "colab_type": "text"
      },
      "source": [
        "#Mounting google drive to read the downloaded nse website option chain"
      ]
    },
    {
      "cell_type": "code",
      "metadata": {
        "id": "_gF3OazUhJzL",
        "colab_type": "code",
        "outputId": "25b5a452-e876-4fea-9e4f-59e0d69d3799",
        "colab": {
          "base_uri": "https://localhost:8080/",
          "height": 128
        }
      },
      "source": [
        "# Load the Drive helper and mount\n",
        "from google.colab import drive\n",
        "\n",
        "# This will prompt for authorization.\n",
        "drive.mount('/content/drive')"
      ],
      "execution_count": 0,
      "outputs": [
        {
          "output_type": "stream",
          "text": [
            "Go to this URL in a browser: https://accounts.google.com/o/oauth2/auth?client_id=947318989803-6bn6qk8qdgf4n4g3pfee6491hc0brc4i.apps.googleusercontent.com&redirect_uri=urn%3aietf%3awg%3aoauth%3a2.0%3aoob&response_type=code&scope=email%20https%3a%2f%2fwww.googleapis.com%2fauth%2fdocs.test%20https%3a%2f%2fwww.googleapis.com%2fauth%2fdrive%20https%3a%2f%2fwww.googleapis.com%2fauth%2fdrive.photos.readonly%20https%3a%2f%2fwww.googleapis.com%2fauth%2fpeopleapi.readonly\n",
            "\n",
            "Enter your authorization code:\n",
            "··········\n",
            "Mounted at /content/drive\n"
          ],
          "name": "stdout"
        }
      ]
    },
    {
      "cell_type": "code",
      "metadata": {
        "id": "sxD4RxpxiTDZ",
        "colab_type": "code",
        "colab": {}
      },
      "source": [
        "!cd \"/content/drive/My Drive/Colab Notebooks/\""
      ],
      "execution_count": 0,
      "outputs": []
    },
    {
      "cell_type": "code",
      "metadata": {
        "id": "HSciFnmNkwWU",
        "colab_type": "code",
        "colab": {}
      },
      "source": [
        "from bs4 import BeautifulSoup\n",
        "import codecs\n",
        "import pandas as pd\n",
        "file=\"/content/drive/My Drive/Colab Notebooks/NSE - National Stock Exchange of India Ltd.html\""
      ],
      "execution_count": 0,
      "outputs": []
    },
    {
      "cell_type": "code",
      "metadata": {
        "id": "Kmd7di7Eh8zq",
        "colab_type": "code",
        "colab": {}
      },
      "source": [
        "page = open(file,encoding='latin-1')\n",
        "soup = BeautifulSoup(page, \"html.parser\")"
      ],
      "execution_count": 0,
      "outputs": []
    },
    {
      "cell_type": "code",
      "metadata": {
        "id": "t6e0wRWjJMKm",
        "colab_type": "code",
        "colab": {}
      },
      "source": [
        "#soup = BeautifulSoup(HtmlFile.read(), 'html.parser')\n",
        "#print (soup.prettify())\n",
        "\n",
        "table_it = soup.find_all(\"div\", {\"class\": \"opttbldata\"})\n",
        "table_cls_1 = soup.find_all(id='octable')\n",
        "\n",
        "#print (table_it)\n",
        "#print (table_cls_1)"
      ],
      "execution_count": 0,
      "outputs": []
    },
    {
      "cell_type": "code",
      "metadata": {
        "id": "UfKTzPGsicBM",
        "colab_type": "code",
        "outputId": "220a3a12-6064-430b-8bb9-9f504147c441",
        "colab": {
          "base_uri": "https://localhost:8080/",
          "height": 206
        }
      },
      "source": [
        "table_cls_2 = soup.find(id=\"octable\")\n",
        "req_row = table_cls_2.find_all('tr')\n",
        "col=3\n",
        "strike_price_list = []\n",
        "calloi_list=[]\n",
        "putoi_list=[]\n",
        "for row_number, tr_nos in enumerate(req_row):\n",
        "  # This ensures that we use only the rows with values\n",
        "  if row_number <= 1 or row_number == len(req_row) - 1:\n",
        "    continue\n",
        "\n",
        "  td_columns = tr_nos.find_all('td')\n",
        "  strike_price = int(float(BeautifulSoup(str(td_columns[11]), 'html.parser').get_text()))\n",
        "  calloi = int(float(BeautifulSoup((str(td_columns[1]).replace('-','0').replace(',', '')), 'html.parser').get_text()))\n",
        "  putoi = int(float(BeautifulSoup((str(td_columns[21]).replace('-','0').replace(',', '')), 'html.parser').get_text()))\n",
        "  strike_price_list.append(strike_price)\n",
        "  calloi_list.append(calloi)\n",
        "  putoi_list.append(putoi)\n",
        "  #print(str(td_columns[1]).replace(',', ''))\n",
        "\n",
        "df = pd.DataFrame(list(zip(strike_price_list,calloi_list,putoi_list)),columns=['strik','calloi','putoi'])\n",
        "df.head()\n",
        "  "
      ],
      "execution_count": 0,
      "outputs": [
        {
          "output_type": "execute_result",
          "data": {
            "text/html": [
              "<div>\n",
              "<style scoped>\n",
              "    .dataframe tbody tr th:only-of-type {\n",
              "        vertical-align: middle;\n",
              "    }\n",
              "\n",
              "    .dataframe tbody tr th {\n",
              "        vertical-align: top;\n",
              "    }\n",
              "\n",
              "    .dataframe thead th {\n",
              "        text-align: right;\n",
              "    }\n",
              "</style>\n",
              "<table border=\"1\" class=\"dataframe\">\n",
              "  <thead>\n",
              "    <tr style=\"text-align: right;\">\n",
              "      <th></th>\n",
              "      <th>strik</th>\n",
              "      <th>calloi</th>\n",
              "      <th>putoi</th>\n",
              "    </tr>\n",
              "  </thead>\n",
              "  <tbody>\n",
              "    <tr>\n",
              "      <th>0</th>\n",
              "      <td>8100</td>\n",
              "      <td>2700</td>\n",
              "      <td>281925</td>\n",
              "    </tr>\n",
              "    <tr>\n",
              "      <th>1</th>\n",
              "      <td>8150</td>\n",
              "      <td>0</td>\n",
              "      <td>0</td>\n",
              "    </tr>\n",
              "    <tr>\n",
              "      <th>2</th>\n",
              "      <td>8200</td>\n",
              "      <td>375</td>\n",
              "      <td>1875</td>\n",
              "    </tr>\n",
              "    <tr>\n",
              "      <th>3</th>\n",
              "      <td>8250</td>\n",
              "      <td>0</td>\n",
              "      <td>0</td>\n",
              "    </tr>\n",
              "    <tr>\n",
              "      <th>4</th>\n",
              "      <td>8300</td>\n",
              "      <td>84450</td>\n",
              "      <td>594000</td>\n",
              "    </tr>\n",
              "  </tbody>\n",
              "</table>\n",
              "</div>"
            ],
            "text/plain": [
              "   strik  calloi   putoi\n",
              "0   8100    2700  281925\n",
              "1   8150       0       0\n",
              "2   8200     375    1875\n",
              "3   8250       0       0\n",
              "4   8300   84450  594000"
            ]
          },
          "metadata": {
            "tags": []
          },
          "execution_count": 9
        }
      ]
    },
    {
      "cell_type": "code",
      "metadata": {
        "id": "8GFbme5VAiSW",
        "colab_type": "code",
        "colab": {}
      },
      "source": [
        "df['helpcall'] = df['strik'] - df.loc[0,'strik']\n",
        "df['helpput'] = df['strik'].iloc[-1] - df['strik']"
      ],
      "execution_count": 0,
      "outputs": []
    },
    {
      "cell_type": "code",
      "metadata": {
        "id": "hCe-dPbQCXAz",
        "colab_type": "code",
        "outputId": "d7a1c853-41ec-4ce5-faa8-e8fcf78d78a3",
        "colab": {
          "base_uri": "https://localhost:8080/",
          "height": 344
        }
      },
      "source": [
        "strike=[7000,7100,7200,7300,7400,7500,7600,7700,7800,7900,8000,8100,8200,8300,8400,8500,8600]\n",
        "calloi=[1404300,335700,482100,422475,963900,999975,785550,1823400,3448575,5367450,6510975,5900325,5113350,3844500,2135625,2252250,1083750]\n",
        "putoi=[4087050,1029150,2977875,1975650,2336700,4548450,3690900,5783025,4864125,2559375,1447125,310500,248775,355725,255525,488475,58500]\n",
        "frame={'strike':strike,'calloi':calloi,'putoi':putoi}\n",
        "dft=pd.DataFrame(frame)\n",
        "\n",
        "dft['helpcall'] = dft['strike'] - dft.loc[0,'strike']\n",
        "\n",
        "dft['ccall'] = 0\n",
        "dft['cput'] = 0\n",
        "\n",
        "j = 0\n",
        "a = 0\n",
        "for i in range(0,len(dft)):\n",
        "  a = 0\n",
        "  b = 0\n",
        "  for j in range(0,i):\n",
        "    a = a + dft['calloi'].iloc[j] * dft['helpcall'].iloc[i-j]\n",
        "  dft['ccall'].iloc[i] = a\n",
        "  \n",
        "for i in range(len(dft),0,-1):\n",
        "  b = 0\n",
        "\n",
        "  for j in range(0,i):\n",
        "    if i == len(dft):\n",
        "      b = b + dft['putoi'].iloc[i-j-1] * dft['helpcall'].iloc[-(j+1)]\n",
        "    else:\n",
        "      b = b + dft['putoi'].iloc[j-i] * dft['helpcall'].iloc[j]\n",
        "    dft['cput'].iloc[-i] = b\n",
        "\n",
        "print(dft)"
      ],
      "execution_count": 59,
      "outputs": [
        {
          "output_type": "stream",
          "text": [
            "    strike   calloi    putoi  helpcall  helpput        ccall         cput\n",
            "0     7000  1404300  4087050         0     1600            0  20691180000\n",
            "1     7100   335700  1029150       100     1500    140430000  17398192500\n",
            "2     7200   482100  2977875       200     1400    314430000  14208120000\n",
            "3     7300   422475  1975650       300     1300    536640000  11315835000\n",
            "4     7400   963900  2336700       400     1200    801097500   8621115000\n",
            "5     7500   999975  4548450       500     1100   1161945000   6160065000\n",
            "6     7600   785550  3690900       600     1000   1622790000   4153860000\n",
            "7     7700  1823400  5783025       700      900   2162190000   2516745000\n",
            "8     7800  3448575  4864125       800      800   2883930000   1457932500\n",
            "9     7900  5367450  2559375       900      700   3950527500    885532500\n",
            "10    8000  6510975  1447125      1000      600   5553870000    569070000\n",
            "11    8100  5900325   310500      1100      500   7808310000    397320000\n",
            "12    8200  5113350   248775      1200      400  10652782500    256620000\n",
            "13    8300  3844500   355725      1300      300  14008590000    140797500\n",
            "14    8400  2135625   255525      1400      200  17748847500     60547500\n",
            "15    8500  2252250   488475      1500      100  21702667500      5850000\n",
            "16    8600  1083750    58500      1600        0  25881712500            0\n"
          ],
          "name": "stdout"
        }
      ]
    },
    {
      "cell_type": "code",
      "metadata": {
        "id": "41yUjibEBEHN",
        "colab_type": "code",
        "colab": {}
      },
      "source": [
        ""
      ],
      "execution_count": 0,
      "outputs": []
    },
    {
      "cell_type": "code",
      "metadata": {
        "id": "oi9yHKAYCBxZ",
        "colab_type": "code",
        "outputId": "32b9bdf9-0556-4614-c329-67c94cf24a1c",
        "colab": {
          "base_uri": "https://localhost:8080/",
          "height": 206
        }
      },
      "source": [
        "df.head()"
      ],
      "execution_count": 0,
      "outputs": [
        {
          "output_type": "execute_result",
          "data": {
            "text/html": [
              "<div>\n",
              "<style scoped>\n",
              "    .dataframe tbody tr th:only-of-type {\n",
              "        vertical-align: middle;\n",
              "    }\n",
              "\n",
              "    .dataframe tbody tr th {\n",
              "        vertical-align: top;\n",
              "    }\n",
              "\n",
              "    .dataframe thead th {\n",
              "        text-align: right;\n",
              "    }\n",
              "</style>\n",
              "<table border=\"1\" class=\"dataframe\">\n",
              "  <thead>\n",
              "    <tr style=\"text-align: right;\">\n",
              "      <th></th>\n",
              "      <th>strik</th>\n",
              "      <th>calloi</th>\n",
              "      <th>putoi</th>\n",
              "      <th>helpcall</th>\n",
              "      <th>helpput</th>\n",
              "    </tr>\n",
              "  </thead>\n",
              "  <tbody>\n",
              "    <tr>\n",
              "      <th>0</th>\n",
              "      <td>8100</td>\n",
              "      <td>2700</td>\n",
              "      <td>281925</td>\n",
              "      <td>0</td>\n",
              "      <td>6600</td>\n",
              "    </tr>\n",
              "    <tr>\n",
              "      <th>1</th>\n",
              "      <td>8150</td>\n",
              "      <td>0</td>\n",
              "      <td>0</td>\n",
              "      <td>50</td>\n",
              "      <td>6550</td>\n",
              "    </tr>\n",
              "    <tr>\n",
              "      <th>2</th>\n",
              "      <td>8200</td>\n",
              "      <td>375</td>\n",
              "      <td>1875</td>\n",
              "      <td>100</td>\n",
              "      <td>6500</td>\n",
              "    </tr>\n",
              "    <tr>\n",
              "      <th>3</th>\n",
              "      <td>8250</td>\n",
              "      <td>0</td>\n",
              "      <td>0</td>\n",
              "      <td>150</td>\n",
              "      <td>6450</td>\n",
              "    </tr>\n",
              "    <tr>\n",
              "      <th>4</th>\n",
              "      <td>8300</td>\n",
              "      <td>84450</td>\n",
              "      <td>594000</td>\n",
              "      <td>200</td>\n",
              "      <td>6400</td>\n",
              "    </tr>\n",
              "  </tbody>\n",
              "</table>\n",
              "</div>"
            ],
            "text/plain": [
              "   strik  calloi   putoi  helpcall  helpput\n",
              "0   8100    2700  281925         0     6600\n",
              "1   8150       0       0        50     6550\n",
              "2   8200     375    1875       100     6500\n",
              "3   8250       0       0       150     6450\n",
              "4   8300   84450  594000       200     6400"
            ]
          },
          "metadata": {
            "tags": []
          },
          "execution_count": 20
        }
      ]
    },
    {
      "cell_type": "code",
      "metadata": {
        "id": "5cWcc0ypCGx-",
        "colab_type": "code",
        "outputId": "964dfc3e-6026-4ebb-e49e-1ac6ebebf39d",
        "colab": {
          "base_uri": "https://localhost:8080/",
          "height": 206
        }
      },
      "source": [
        "df.tail()"
      ],
      "execution_count": 0,
      "outputs": [
        {
          "output_type": "execute_result",
          "data": {
            "text/html": [
              "<div>\n",
              "<style scoped>\n",
              "    .dataframe tbody tr th:only-of-type {\n",
              "        vertical-align: middle;\n",
              "    }\n",
              "\n",
              "    .dataframe tbody tr th {\n",
              "        vertical-align: top;\n",
              "    }\n",
              "\n",
              "    .dataframe thead th {\n",
              "        text-align: right;\n",
              "    }\n",
              "</style>\n",
              "<table border=\"1\" class=\"dataframe\">\n",
              "  <thead>\n",
              "    <tr style=\"text-align: right;\">\n",
              "      <th></th>\n",
              "      <th>strik</th>\n",
              "      <th>calloi</th>\n",
              "      <th>putoi</th>\n",
              "      <th>helpcall</th>\n",
              "      <th>helpput</th>\n",
              "    </tr>\n",
              "  </thead>\n",
              "  <tbody>\n",
              "    <tr>\n",
              "      <th>120</th>\n",
              "      <td>14300</td>\n",
              "      <td>0</td>\n",
              "      <td>0</td>\n",
              "      <td>6200</td>\n",
              "      <td>400</td>\n",
              "    </tr>\n",
              "    <tr>\n",
              "      <th>121</th>\n",
              "      <td>14400</td>\n",
              "      <td>1800</td>\n",
              "      <td>0</td>\n",
              "      <td>6300</td>\n",
              "      <td>300</td>\n",
              "    </tr>\n",
              "    <tr>\n",
              "      <th>122</th>\n",
              "      <td>14500</td>\n",
              "      <td>46650</td>\n",
              "      <td>26100</td>\n",
              "      <td>6400</td>\n",
              "      <td>200</td>\n",
              "    </tr>\n",
              "    <tr>\n",
              "      <th>123</th>\n",
              "      <td>14600</td>\n",
              "      <td>0</td>\n",
              "      <td>0</td>\n",
              "      <td>6500</td>\n",
              "      <td>100</td>\n",
              "    </tr>\n",
              "    <tr>\n",
              "      <th>124</th>\n",
              "      <td>14700</td>\n",
              "      <td>11700</td>\n",
              "      <td>0</td>\n",
              "      <td>6600</td>\n",
              "      <td>0</td>\n",
              "    </tr>\n",
              "  </tbody>\n",
              "</table>\n",
              "</div>"
            ],
            "text/plain": [
              "     strik  calloi  putoi  helpcall  helpput\n",
              "120  14300       0      0      6200      400\n",
              "121  14400    1800      0      6300      300\n",
              "122  14500   46650  26100      6400      200\n",
              "123  14600       0      0      6500      100\n",
              "124  14700   11700      0      6600        0"
            ]
          },
          "metadata": {
            "tags": []
          },
          "execution_count": 21
        }
      ]
    },
    {
      "cell_type": "code",
      "metadata": {
        "id": "gfSMHXeki1UT",
        "colab_type": "code",
        "colab": {}
      },
      "source": [
        "df.to_excel('output.xlsx')"
      ],
      "execution_count": 0,
      "outputs": []
    },
    {
      "cell_type": "code",
      "metadata": {
        "id": "pLWZBwUoHSKT",
        "colab_type": "code",
        "colab": {}
      },
      "source": [
        "from google.colab import files\n",
        "files.download('output.xlsx')"
      ],
      "execution_count": 0,
      "outputs": []
    }
  ]
}