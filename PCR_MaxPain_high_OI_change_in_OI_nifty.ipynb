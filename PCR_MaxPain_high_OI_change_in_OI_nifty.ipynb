{
  "nbformat": 4,
  "nbformat_minor": 0,
  "metadata": {
    "colab": {
      "name": "PCR_MaxPain_high OI_change_in_OI_nifty.ipynb",
      "provenance": [],
      "include_colab_link": true
    },
    "kernelspec": {
      "name": "python3",
      "display_name": "Python 3"
    }
  },
  "cells": [
    {
      "cell_type": "markdown",
      "metadata": {
        "id": "view-in-github",
        "colab_type": "text"
      },
      "source": [
        "<a href=\"https://colab.research.google.com/github/jesvin1/Basics/blob/master/PCR_MaxPain_high_OI_change_in_OI_nifty.ipynb\" target=\"_parent\"><img src=\"https://colab.research.google.com/assets/colab-badge.svg\" alt=\"Open In Colab\"/></a>"
      ]
    },
    {
      "cell_type": "markdown",
      "metadata": {
        "id": "EvqjxE8QhinG",
        "colab_type": "text"
      },
      "source": [
        "#Mounting google drive to read the downloaded nse website option chain"
      ]
    },
    {
      "cell_type": "code",
      "metadata": {
        "id": "_gF3OazUhJzL",
        "colab_type": "code",
        "outputId": "25b5a452-e876-4fea-9e4f-59e0d69d3799",
        "colab": {
          "base_uri": "https://localhost:8080/",
          "height": 128
        }
      },
      "source": [
        "# Load the Drive helper and mount\n",
        "from google.colab import drive\n",
        "\n",
        "# This will prompt for authorization.\n",
        "drive.mount('/content/drive')"
      ],
      "execution_count": 0,
      "outputs": [
        {
          "output_type": "stream",
          "text": [
            "Go to this URL in a browser: https://accounts.google.com/o/oauth2/auth?client_id=947318989803-6bn6qk8qdgf4n4g3pfee6491hc0brc4i.apps.googleusercontent.com&redirect_uri=urn%3aietf%3awg%3aoauth%3a2.0%3aoob&response_type=code&scope=email%20https%3a%2f%2fwww.googleapis.com%2fauth%2fdocs.test%20https%3a%2f%2fwww.googleapis.com%2fauth%2fdrive%20https%3a%2f%2fwww.googleapis.com%2fauth%2fdrive.photos.readonly%20https%3a%2f%2fwww.googleapis.com%2fauth%2fpeopleapi.readonly\n",
            "\n",
            "Enter your authorization code:\n",
            "··········\n",
            "Mounted at /content/drive\n"
          ],
          "name": "stdout"
        }
      ]
    },
    {
      "cell_type": "code",
      "metadata": {
        "id": "sxD4RxpxiTDZ",
        "colab_type": "code",
        "colab": {}
      },
      "source": [
        "!cd \"/content/drive/My Drive/Colab Notebooks/\""
      ],
      "execution_count": 0,
      "outputs": []
    },
    {
      "cell_type": "code",
      "metadata": {
        "id": "HSciFnmNkwWU",
        "colab_type": "code",
        "colab": {}
      },
      "source": [
        "from bs4 import BeautifulSoup\n",
        "import codecs\n",
        "import pandas as pd\n",
        "file=\"/content/drive/My Drive/Colab Notebooks/NSE - National Stock Exchange of India Ltd.html\""
      ],
      "execution_count": 0,
      "outputs": []
    },
    {
      "cell_type": "code",
      "metadata": {
        "id": "Kmd7di7Eh8zq",
        "colab_type": "code",
        "colab": {}
      },
      "source": [
        "page = open(file,encoding='latin-1')\n",
        "soup = BeautifulSoup(page, \"html.parser\")"
      ],
      "execution_count": 0,
      "outputs": []
    },
    {
      "cell_type": "code",
      "metadata": {
        "id": "t6e0wRWjJMKm",
        "colab_type": "code",
        "colab": {}
      },
      "source": [
        "#soup = BeautifulSoup(HtmlFile.read(), 'html.parser')\n",
        "#print (soup.prettify())\n",
        "\n",
        "table_it = soup.find_all(\"div\", {\"class\": \"opttbldata\"})\n",
        "table_cls_1 = soup.find_all(id='octable')\n",
        "\n",
        "#print (table_it)\n",
        "#print (table_cls_1)"
      ],
      "execution_count": 0,
      "outputs": []
    },
    {
      "cell_type": "code",
      "metadata": {
        "id": "UfKTzPGsicBM",
        "colab_type": "code",
        "outputId": "220a3a12-6064-430b-8bb9-9f504147c441",
        "colab": {
          "base_uri": "https://localhost:8080/",
          "height": 206
        }
      },
      "source": [
        "table_cls_2 = soup.find(id=\"octable\")\n",
        "req_row = table_cls_2.find_all('tr')\n",
        "col=3\n",
        "strike_price_list = []\n",
        "calloi_list=[]\n",
        "putoi_list=[]\n",
        "for row_number, tr_nos in enumerate(req_row):\n",
        "  # This ensures that we use only the rows with values\n",
        "  if row_number <= 1 or row_number == len(req_row) - 1:\n",
        "    continue\n",
        "\n",
        "  td_columns = tr_nos.find_all('td')\n",
        "  strike_price = int(float(BeautifulSoup(str(td_columns[11]), 'html.parser').get_text()))\n",
        "  calloi = int(float(BeautifulSoup((str(td_columns[1]).replace('-','0').replace(',', '')), 'html.parser').get_text()))\n",
        "  putoi = int(float(BeautifulSoup((str(td_columns[21]).replace('-','0').replace(',', '')), 'html.parser').get_text()))\n",
        "  strike_price_list.append(strike_price)\n",
        "  calloi_list.append(calloi)\n",
        "  putoi_list.append(putoi)\n",
        "  #print(str(td_columns[1]).replace(',', ''))\n",
        "\n",
        "df = pd.DataFrame(list(zip(strike_price_list,calloi_list,putoi_list)),columns=['strik','calloi','putoi'])\n",
        "df.head()\n",
        "  "
      ],
      "execution_count": 0,
      "outputs": [
        {
          "output_type": "execute_result",
          "data": {
            "text/html": [
              "<div>\n",
              "<style scoped>\n",
              "    .dataframe tbody tr th:only-of-type {\n",
              "        vertical-align: middle;\n",
              "    }\n",
              "\n",
              "    .dataframe tbody tr th {\n",
              "        vertical-align: top;\n",
              "    }\n",
              "\n",
              "    .dataframe thead th {\n",
              "        text-align: right;\n",
              "    }\n",
              "</style>\n",
              "<table border=\"1\" class=\"dataframe\">\n",
              "  <thead>\n",
              "    <tr style=\"text-align: right;\">\n",
              "      <th></th>\n",
              "      <th>strik</th>\n",
              "      <th>calloi</th>\n",
              "      <th>putoi</th>\n",
              "    </tr>\n",
              "  </thead>\n",
              "  <tbody>\n",
              "    <tr>\n",
              "      <th>0</th>\n",
              "      <td>8100</td>\n",
              "      <td>2700</td>\n",
              "      <td>281925</td>\n",
              "    </tr>\n",
              "    <tr>\n",
              "      <th>1</th>\n",
              "      <td>8150</td>\n",
              "      <td>0</td>\n",
              "      <td>0</td>\n",
              "    </tr>\n",
              "    <tr>\n",
              "      <th>2</th>\n",
              "      <td>8200</td>\n",
              "      <td>375</td>\n",
              "      <td>1875</td>\n",
              "    </tr>\n",
              "    <tr>\n",
              "      <th>3</th>\n",
              "      <td>8250</td>\n",
              "      <td>0</td>\n",
              "      <td>0</td>\n",
              "    </tr>\n",
              "    <tr>\n",
              "      <th>4</th>\n",
              "      <td>8300</td>\n",
              "      <td>84450</td>\n",
              "      <td>594000</td>\n",
              "    </tr>\n",
              "  </tbody>\n",
              "</table>\n",
              "</div>"
            ],
            "text/plain": [
              "   strik  calloi   putoi\n",
              "0   8100    2700  281925\n",
              "1   8150       0       0\n",
              "2   8200     375    1875\n",
              "3   8250       0       0\n",
              "4   8300   84450  594000"
            ]
          },
          "metadata": {
            "tags": []
          },
          "execution_count": 9
        }
      ]
    },
    {
      "cell_type": "code",
      "metadata": {
        "id": "8GFbme5VAiSW",
        "colab_type": "code",
        "colab": {}
      },
      "source": [
        "df['helpcall'] = df['strik'] - df.loc[0,'strik']\n",
        "df['helpput'] = df['strik'].iloc[-1] - df['strik']"
      ],
      "execution_count": 0,
      "outputs": []
    },
    {
      "cell_type": "code",
      "metadata": {
        "id": "hCe-dPbQCXAz",
        "colab_type": "code",
        "outputId": "9cf63dcb-28e6-4de8-bb35-5b8c97a35179",
        "colab": {
          "base_uri": "https://localhost:8080/",
          "height": 1000
        }
      },
      "source": [
        "strike=[7000,7100,7200,7300,7400,7500,7600,7700,7800,7900,8000,8100,8200,8300,8400,8500,8600]\n",
        "calloi=[1404300,335700,482100,422475,963900,999975,785550,1823400,3448575,5367450,6510975,5900325,5113350,3844500,2135625,2252250,1083750]\n",
        "putoi=[4087050,1029150,2977875,1975650,2336700,4548450,3690900,5783025,4864125,2559375,1447125,310500,248775,355725,255525,488475,58500]\n",
        "frame={'strike':strike,'calloi':calloi,'putoi':putoi}\n",
        "dft=pd.DataFrame(frame)\n",
        "\n",
        "dft['helpcall'] = dft['strike'] - dft.loc[0,'strike']\n",
        "dft['helpput'] = dft['strike'].iloc[-1] - dft['strike']\n",
        "j = 0\n",
        "a = 0\n",
        "for i in range(0,len(dft)):\n",
        "  a = 0\n",
        "  b = 0\n",
        "  for j in range(0,i):\n",
        "    #print(i,j,dft['putoi'].iloc[j],dft['helpput'].iloc[i-j],b)\n",
        "    a = a + dft['calloi'].iloc[j] * dft['helpcall'].iloc[i-j]\n",
        "    #print(j)\n",
        "for i in range(len(dft)-1,0,-1):\n",
        "  b = 0\n",
        "  for j in range(i,0,-1):\n",
        "    #print(i,j)\n",
        "    print(i,j,dft['putoi'].iloc[i-j],dft['helpput'].iloc[j],b)\n",
        "    b = b + dft['putoi'].iloc[i-j] * dft['helpput'].iloc[j]\n",
        "    #print(j)\n",
        "\n",
        "  print('######')\n",
        "  #print(b)\n",
        "#dft.tail()"
      ],
      "execution_count": 14,
      "outputs": [
        {
          "output_type": "stream",
          "text": [
            "16 16 4087050 0 0\n",
            "16 15 1029150 100 0\n",
            "16 14 2977875 200 102915000\n",
            "16 13 1975650 300 698490000\n",
            "16 12 2336700 400 1291185000\n",
            "16 11 4548450 500 2225865000\n",
            "16 10 3690900 600 4500090000\n",
            "16 9 5783025 700 6714630000\n",
            "16 8 4864125 800 10762747500\n",
            "16 7 2559375 900 14654047500\n",
            "16 6 1447125 1000 16957485000\n",
            "16 5 310500 1100 18404610000\n",
            "16 4 248775 1200 18746160000\n",
            "16 3 355725 1300 19044690000\n",
            "16 2 255525 1400 19507132500\n",
            "16 1 488475 1500 19864867500\n",
            "######\n",
            "15 15 4087050 100 0\n",
            "15 14 1029150 200 408705000\n",
            "15 13 2977875 300 614535000\n",
            "15 12 1975650 400 1507897500\n",
            "15 11 2336700 500 2298157500\n",
            "15 10 4548450 600 3466507500\n",
            "15 9 3690900 700 6195577500\n",
            "15 8 5783025 800 8779207500\n",
            "15 7 4864125 900 13405627500\n",
            "15 6 2559375 1000 17783340000\n",
            "15 5 1447125 1100 20342715000\n",
            "15 4 310500 1200 21934552500\n",
            "15 3 248775 1300 22307152500\n",
            "15 2 355725 1400 22630560000\n",
            "15 1 255525 1500 23128575000\n",
            "######\n",
            "14 14 4087050 200 0\n",
            "14 13 1029150 300 817410000\n",
            "14 12 2977875 400 1126155000\n",
            "14 11 1975650 500 2317305000\n",
            "14 10 2336700 600 3305130000\n",
            "14 9 4548450 700 4707150000\n",
            "14 8 3690900 800 7891065000\n",
            "14 7 5783025 900 10843785000\n",
            "14 6 4864125 1000 16048507500\n",
            "14 5 2559375 1100 20912632500\n",
            "14 4 1447125 1200 23727945000\n",
            "14 3 310500 1300 25464495000\n",
            "14 2 248775 1400 25868145000\n",
            "14 1 355725 1500 26216430000\n",
            "######\n",
            "13 13 4087050 300 0\n",
            "13 12 1029150 400 1226115000\n",
            "13 11 2977875 500 1637775000\n",
            "13 10 1975650 600 3126712500\n",
            "13 9 2336700 700 4312102500\n",
            "13 8 4548450 800 5947792500\n",
            "13 7 3690900 900 9586552500\n",
            "13 6 5783025 1000 12908362500\n",
            "13 5 4864125 1100 18691387500\n",
            "13 4 2559375 1200 24041925000\n",
            "13 3 1447125 1300 27113175000\n",
            "13 2 310500 1400 28994437500\n",
            "13 1 248775 1500 29429137500\n",
            "######\n",
            "12 12 4087050 400 0\n",
            "12 11 1029150 500 1634820000\n",
            "12 10 2977875 600 2149395000\n",
            "12 9 1975650 700 3936120000\n",
            "12 8 2336700 800 5319075000\n",
            "12 7 4548450 900 7188435000\n",
            "12 6 3690900 1000 11282040000\n",
            "12 5 5783025 1100 14972940000\n",
            "12 4 4864125 1200 21334267500\n",
            "12 3 2559375 1300 27171217500\n",
            "12 2 1447125 1400 30498405000\n",
            "12 1 310500 1500 32524380000\n",
            "######\n",
            "11 11 4087050 500 0\n",
            "11 10 1029150 600 2043525000\n",
            "11 9 2977875 700 2661015000\n",
            "11 8 1975650 800 4745527500\n",
            "11 7 2336700 900 6326047500\n",
            "11 6 4548450 1000 8429077500\n",
            "11 5 3690900 1100 12977527500\n",
            "11 4 5783025 1200 17037517500\n",
            "11 3 4864125 1300 23977147500\n",
            "11 2 2559375 1400 30300510000\n",
            "11 1 1447125 1500 33883635000\n",
            "######\n",
            "10 10 4087050 600 0\n",
            "10 9 1029150 700 2452230000\n",
            "10 8 2977875 800 3172635000\n",
            "10 7 1975650 900 5554935000\n",
            "10 6 2336700 1000 7333020000\n",
            "10 5 4548450 1100 9669720000\n",
            "10 4 3690900 1200 14673015000\n",
            "10 3 5783025 1300 19102095000\n",
            "10 2 4864125 1400 26620027500\n",
            "10 1 2559375 1500 33429802500\n",
            "######\n",
            "9 9 4087050 700 0\n",
            "9 8 1029150 800 2860935000\n",
            "9 7 2977875 900 3684255000\n",
            "9 6 1975650 1000 6364342500\n",
            "9 5 2336700 1100 8339992500\n",
            "9 4 4548450 1200 10910362500\n",
            "9 3 3690900 1300 16368502500\n",
            "9 2 5783025 1400 21166672500\n",
            "9 1 4864125 1500 29262907500\n",
            "######\n",
            "8 8 4087050 800 0\n",
            "8 7 1029150 900 3269640000\n",
            "8 6 2977875 1000 4195875000\n",
            "8 5 1975650 1100 7173750000\n",
            "8 4 2336700 1200 9346965000\n",
            "8 3 4548450 1300 12151005000\n",
            "8 2 3690900 1400 18063990000\n",
            "8 1 5783025 1500 23231250000\n",
            "######\n",
            "7 7 4087050 900 0\n",
            "7 6 1029150 1000 3678345000\n",
            "7 5 2977875 1100 4707495000\n",
            "7 4 1975650 1200 7983157500\n",
            "7 3 2336700 1300 10353937500\n",
            "7 2 4548450 1400 13391647500\n",
            "7 1 3690900 1500 19759477500\n",
            "######\n",
            "6 6 4087050 1000 0\n",
            "6 5 1029150 1100 4087050000\n",
            "6 4 2977875 1200 5219115000\n",
            "6 3 1975650 1300 8792565000\n",
            "6 2 2336700 1400 11360910000\n",
            "6 1 4548450 1500 14632290000\n",
            "######\n",
            "5 5 4087050 1100 0\n",
            "5 4 1029150 1200 4495755000\n",
            "5 3 2977875 1300 5730735000\n",
            "5 2 1975650 1400 9601972500\n",
            "5 1 2336700 1500 12367882500\n",
            "######\n",
            "4 4 4087050 1200 0\n",
            "4 3 1029150 1300 4904460000\n",
            "4 2 2977875 1400 6242355000\n",
            "4 1 1975650 1500 10411380000\n",
            "######\n",
            "3 3 4087050 1300 0\n",
            "3 2 1029150 1400 5313165000\n",
            "3 1 2977875 1500 6753975000\n",
            "######\n",
            "2 2 4087050 1400 0\n",
            "2 1 1029150 1500 5721870000\n",
            "######\n",
            "1 1 4087050 1500 0\n",
            "######\n"
          ],
          "name": "stdout"
        }
      ]
    },
    {
      "cell_type": "code",
      "metadata": {
        "id": "oi9yHKAYCBxZ",
        "colab_type": "code",
        "outputId": "32b9bdf9-0556-4614-c329-67c94cf24a1c",
        "colab": {
          "base_uri": "https://localhost:8080/",
          "height": 206
        }
      },
      "source": [
        "df.head()"
      ],
      "execution_count": 0,
      "outputs": [
        {
          "output_type": "execute_result",
          "data": {
            "text/html": [
              "<div>\n",
              "<style scoped>\n",
              "    .dataframe tbody tr th:only-of-type {\n",
              "        vertical-align: middle;\n",
              "    }\n",
              "\n",
              "    .dataframe tbody tr th {\n",
              "        vertical-align: top;\n",
              "    }\n",
              "\n",
              "    .dataframe thead th {\n",
              "        text-align: right;\n",
              "    }\n",
              "</style>\n",
              "<table border=\"1\" class=\"dataframe\">\n",
              "  <thead>\n",
              "    <tr style=\"text-align: right;\">\n",
              "      <th></th>\n",
              "      <th>strik</th>\n",
              "      <th>calloi</th>\n",
              "      <th>putoi</th>\n",
              "      <th>helpcall</th>\n",
              "      <th>helpput</th>\n",
              "    </tr>\n",
              "  </thead>\n",
              "  <tbody>\n",
              "    <tr>\n",
              "      <th>0</th>\n",
              "      <td>8100</td>\n",
              "      <td>2700</td>\n",
              "      <td>281925</td>\n",
              "      <td>0</td>\n",
              "      <td>6600</td>\n",
              "    </tr>\n",
              "    <tr>\n",
              "      <th>1</th>\n",
              "      <td>8150</td>\n",
              "      <td>0</td>\n",
              "      <td>0</td>\n",
              "      <td>50</td>\n",
              "      <td>6550</td>\n",
              "    </tr>\n",
              "    <tr>\n",
              "      <th>2</th>\n",
              "      <td>8200</td>\n",
              "      <td>375</td>\n",
              "      <td>1875</td>\n",
              "      <td>100</td>\n",
              "      <td>6500</td>\n",
              "    </tr>\n",
              "    <tr>\n",
              "      <th>3</th>\n",
              "      <td>8250</td>\n",
              "      <td>0</td>\n",
              "      <td>0</td>\n",
              "      <td>150</td>\n",
              "      <td>6450</td>\n",
              "    </tr>\n",
              "    <tr>\n",
              "      <th>4</th>\n",
              "      <td>8300</td>\n",
              "      <td>84450</td>\n",
              "      <td>594000</td>\n",
              "      <td>200</td>\n",
              "      <td>6400</td>\n",
              "    </tr>\n",
              "  </tbody>\n",
              "</table>\n",
              "</div>"
            ],
            "text/plain": [
              "   strik  calloi   putoi  helpcall  helpput\n",
              "0   8100    2700  281925         0     6600\n",
              "1   8150       0       0        50     6550\n",
              "2   8200     375    1875       100     6500\n",
              "3   8250       0       0       150     6450\n",
              "4   8300   84450  594000       200     6400"
            ]
          },
          "metadata": {
            "tags": []
          },
          "execution_count": 20
        }
      ]
    },
    {
      "cell_type": "code",
      "metadata": {
        "id": "5cWcc0ypCGx-",
        "colab_type": "code",
        "outputId": "964dfc3e-6026-4ebb-e49e-1ac6ebebf39d",
        "colab": {
          "base_uri": "https://localhost:8080/",
          "height": 206
        }
      },
      "source": [
        "df.tail()"
      ],
      "execution_count": 0,
      "outputs": [
        {
          "output_type": "execute_result",
          "data": {
            "text/html": [
              "<div>\n",
              "<style scoped>\n",
              "    .dataframe tbody tr th:only-of-type {\n",
              "        vertical-align: middle;\n",
              "    }\n",
              "\n",
              "    .dataframe tbody tr th {\n",
              "        vertical-align: top;\n",
              "    }\n",
              "\n",
              "    .dataframe thead th {\n",
              "        text-align: right;\n",
              "    }\n",
              "</style>\n",
              "<table border=\"1\" class=\"dataframe\">\n",
              "  <thead>\n",
              "    <tr style=\"text-align: right;\">\n",
              "      <th></th>\n",
              "      <th>strik</th>\n",
              "      <th>calloi</th>\n",
              "      <th>putoi</th>\n",
              "      <th>helpcall</th>\n",
              "      <th>helpput</th>\n",
              "    </tr>\n",
              "  </thead>\n",
              "  <tbody>\n",
              "    <tr>\n",
              "      <th>120</th>\n",
              "      <td>14300</td>\n",
              "      <td>0</td>\n",
              "      <td>0</td>\n",
              "      <td>6200</td>\n",
              "      <td>400</td>\n",
              "    </tr>\n",
              "    <tr>\n",
              "      <th>121</th>\n",
              "      <td>14400</td>\n",
              "      <td>1800</td>\n",
              "      <td>0</td>\n",
              "      <td>6300</td>\n",
              "      <td>300</td>\n",
              "    </tr>\n",
              "    <tr>\n",
              "      <th>122</th>\n",
              "      <td>14500</td>\n",
              "      <td>46650</td>\n",
              "      <td>26100</td>\n",
              "      <td>6400</td>\n",
              "      <td>200</td>\n",
              "    </tr>\n",
              "    <tr>\n",
              "      <th>123</th>\n",
              "      <td>14600</td>\n",
              "      <td>0</td>\n",
              "      <td>0</td>\n",
              "      <td>6500</td>\n",
              "      <td>100</td>\n",
              "    </tr>\n",
              "    <tr>\n",
              "      <th>124</th>\n",
              "      <td>14700</td>\n",
              "      <td>11700</td>\n",
              "      <td>0</td>\n",
              "      <td>6600</td>\n",
              "      <td>0</td>\n",
              "    </tr>\n",
              "  </tbody>\n",
              "</table>\n",
              "</div>"
            ],
            "text/plain": [
              "     strik  calloi  putoi  helpcall  helpput\n",
              "120  14300       0      0      6200      400\n",
              "121  14400    1800      0      6300      300\n",
              "122  14500   46650  26100      6400      200\n",
              "123  14600       0      0      6500      100\n",
              "124  14700   11700      0      6600        0"
            ]
          },
          "metadata": {
            "tags": []
          },
          "execution_count": 21
        }
      ]
    },
    {
      "cell_type": "code",
      "metadata": {
        "id": "gfSMHXeki1UT",
        "colab_type": "code",
        "colab": {}
      },
      "source": [
        "df.to_excel('output.xlsx')"
      ],
      "execution_count": 0,
      "outputs": []
    },
    {
      "cell_type": "code",
      "metadata": {
        "id": "pLWZBwUoHSKT",
        "colab_type": "code",
        "colab": {}
      },
      "source": [
        "from google.colab import files\n",
        "files.download('output.xlsx')"
      ],
      "execution_count": 0,
      "outputs": []
    }
  ]
}