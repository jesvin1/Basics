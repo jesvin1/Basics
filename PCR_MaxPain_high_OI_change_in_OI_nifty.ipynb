{
  "nbformat": 4,
  "nbformat_minor": 0,
  "metadata": {
    "colab": {
      "name": "PCR_MaxPain_high OI_change_in_OI_nifty.ipynb",
      "provenance": [],
      "include_colab_link": true
    },
    "kernelspec": {
      "name": "python3",
      "display_name": "Python 3"
    }
  },
  "cells": [
    {
      "cell_type": "markdown",
      "metadata": {
        "id": "view-in-github",
        "colab_type": "text"
      },
      "source": [
        "<a href=\"https://colab.research.google.com/github/jesvin1/Basics/blob/master/PCR_MaxPain_high_OI_change_in_OI_nifty.ipynb\" target=\"_parent\"><img src=\"https://colab.research.google.com/assets/colab-badge.svg\" alt=\"Open In Colab\"/></a>"
      ]
    },
    {
      "cell_type": "markdown",
      "metadata": {
        "id": "EvqjxE8QhinG",
        "colab_type": "text"
      },
      "source": [
        "#Mounting google drive to read the downloaded nse website option chain"
      ]
    },
    {
      "cell_type": "code",
      "metadata": {
        "id": "_gF3OazUhJzL",
        "colab_type": "code",
        "outputId": "25b5a452-e876-4fea-9e4f-59e0d69d3799",
        "colab": {
          "base_uri": "https://localhost:8080/",
          "height": 128
        }
      },
      "source": [
        "# Load the Drive helper and mount\n",
        "from google.colab import drive\n",
        "\n",
        "# This will prompt for authorization.\n",
        "drive.mount('/content/drive')"
      ],
      "execution_count": 0,
      "outputs": [
        {
          "output_type": "stream",
          "text": [
            "Go to this URL in a browser: https://accounts.google.com/o/oauth2/auth?client_id=947318989803-6bn6qk8qdgf4n4g3pfee6491hc0brc4i.apps.googleusercontent.com&redirect_uri=urn%3aietf%3awg%3aoauth%3a2.0%3aoob&response_type=code&scope=email%20https%3a%2f%2fwww.googleapis.com%2fauth%2fdocs.test%20https%3a%2f%2fwww.googleapis.com%2fauth%2fdrive%20https%3a%2f%2fwww.googleapis.com%2fauth%2fdrive.photos.readonly%20https%3a%2f%2fwww.googleapis.com%2fauth%2fpeopleapi.readonly\n",
            "\n",
            "Enter your authorization code:\n",
            "··········\n",
            "Mounted at /content/drive\n"
          ],
          "name": "stdout"
        }
      ]
    },
    {
      "cell_type": "code",
      "metadata": {
        "id": "sxD4RxpxiTDZ",
        "colab_type": "code",
        "colab": {}
      },
      "source": [
        "!cd \"/content/drive/My Drive/Colab Notebooks/\""
      ],
      "execution_count": 0,
      "outputs": []
    },
    {
      "cell_type": "code",
      "metadata": {
        "id": "HSciFnmNkwWU",
        "colab_type": "code",
        "colab": {}
      },
      "source": [
        "from bs4 import BeautifulSoup\n",
        "import codecs\n",
        "import pandas as pd\n",
        "file=\"/content/drive/My Drive/Colab Notebooks/NSE - National Stock Exchange of India Ltd.html\""
      ],
      "execution_count": 0,
      "outputs": []
    },
    {
      "cell_type": "code",
      "metadata": {
        "id": "Kmd7di7Eh8zq",
        "colab_type": "code",
        "colab": {}
      },
      "source": [
        "page = open(file,encoding='latin-1')\n",
        "soup = BeautifulSoup(page, \"html.parser\")"
      ],
      "execution_count": 0,
      "outputs": []
    },
    {
      "cell_type": "code",
      "metadata": {
        "id": "t6e0wRWjJMKm",
        "colab_type": "code",
        "colab": {}
      },
      "source": [
        "#soup = BeautifulSoup(HtmlFile.read(), 'html.parser')\n",
        "#print (soup.prettify())\n",
        "\n",
        "table_it = soup.find_all(\"div\", {\"class\": \"opttbldata\"})\n",
        "table_cls_1 = soup.find_all(id='octable')\n",
        "\n",
        "#print (table_it)\n",
        "#print (table_cls_1)"
      ],
      "execution_count": 0,
      "outputs": []
    },
    {
      "cell_type": "code",
      "metadata": {
        "id": "UfKTzPGsicBM",
        "colab_type": "code",
        "outputId": "220a3a12-6064-430b-8bb9-9f504147c441",
        "colab": {
          "base_uri": "https://localhost:8080/",
          "height": 206
        }
      },
      "source": [
        "table_cls_2 = soup.find(id=\"octable\")\n",
        "req_row = table_cls_2.find_all('tr')\n",
        "col=3\n",
        "strike_price_list = []\n",
        "calloi_list=[]\n",
        "putoi_list=[]\n",
        "for row_number, tr_nos in enumerate(req_row):\n",
        "  # This ensures that we use only the rows with values\n",
        "  if row_number <= 1 or row_number == len(req_row) - 1:\n",
        "    continue\n",
        "\n",
        "  td_columns = tr_nos.find_all('td')\n",
        "  strike_price = int(float(BeautifulSoup(str(td_columns[11]), 'html.parser').get_text()))\n",
        "  calloi = int(float(BeautifulSoup((str(td_columns[1]).replace('-','0').replace(',', '')), 'html.parser').get_text()))\n",
        "  putoi = int(float(BeautifulSoup((str(td_columns[21]).replace('-','0').replace(',', '')), 'html.parser').get_text()))\n",
        "  strike_price_list.append(strike_price)\n",
        "  calloi_list.append(calloi)\n",
        "  putoi_list.append(putoi)\n",
        "  #print(str(td_columns[1]).replace(',', ''))\n",
        "\n",
        "df = pd.DataFrame(list(zip(strike_price_list,calloi_list,putoi_list)),columns=['strik','calloi','putoi'])\n",
        "df.head()\n",
        "  "
      ],
      "execution_count": 0,
      "outputs": [
        {
          "output_type": "execute_result",
          "data": {
            "text/html": [
              "<div>\n",
              "<style scoped>\n",
              "    .dataframe tbody tr th:only-of-type {\n",
              "        vertical-align: middle;\n",
              "    }\n",
              "\n",
              "    .dataframe tbody tr th {\n",
              "        vertical-align: top;\n",
              "    }\n",
              "\n",
              "    .dataframe thead th {\n",
              "        text-align: right;\n",
              "    }\n",
              "</style>\n",
              "<table border=\"1\" class=\"dataframe\">\n",
              "  <thead>\n",
              "    <tr style=\"text-align: right;\">\n",
              "      <th></th>\n",
              "      <th>strik</th>\n",
              "      <th>calloi</th>\n",
              "      <th>putoi</th>\n",
              "    </tr>\n",
              "  </thead>\n",
              "  <tbody>\n",
              "    <tr>\n",
              "      <th>0</th>\n",
              "      <td>8100</td>\n",
              "      <td>2700</td>\n",
              "      <td>281925</td>\n",
              "    </tr>\n",
              "    <tr>\n",
              "      <th>1</th>\n",
              "      <td>8150</td>\n",
              "      <td>0</td>\n",
              "      <td>0</td>\n",
              "    </tr>\n",
              "    <tr>\n",
              "      <th>2</th>\n",
              "      <td>8200</td>\n",
              "      <td>375</td>\n",
              "      <td>1875</td>\n",
              "    </tr>\n",
              "    <tr>\n",
              "      <th>3</th>\n",
              "      <td>8250</td>\n",
              "      <td>0</td>\n",
              "      <td>0</td>\n",
              "    </tr>\n",
              "    <tr>\n",
              "      <th>4</th>\n",
              "      <td>8300</td>\n",
              "      <td>84450</td>\n",
              "      <td>594000</td>\n",
              "    </tr>\n",
              "  </tbody>\n",
              "</table>\n",
              "</div>"
            ],
            "text/plain": [
              "   strik  calloi   putoi\n",
              "0   8100    2700  281925\n",
              "1   8150       0       0\n",
              "2   8200     375    1875\n",
              "3   8250       0       0\n",
              "4   8300   84450  594000"
            ]
          },
          "metadata": {
            "tags": []
          },
          "execution_count": 9
        }
      ]
    },
    {
      "cell_type": "code",
      "metadata": {
        "id": "8GFbme5VAiSW",
        "colab_type": "code",
        "colab": {}
      },
      "source": [
        "df['helpcall'] = df['strik'] - df.loc[0,'strik']\n",
        "df['helpput'] = df['strik'].iloc[-1] - df['strik']"
      ],
      "execution_count": 0,
      "outputs": []
    },
    {
      "cell_type": "code",
      "metadata": {
        "id": "hCe-dPbQCXAz",
        "colab_type": "code",
        "outputId": "d4fe58f0-a4fe-4fc5-e31a-c9f2ed24ab29",
        "colab": {
          "base_uri": "https://localhost:8080/",
          "height": 1000
        }
      },
      "source": [
        "strike=[7000,7100,7200,7300,7400,7500,7600,7700,7800,7900,8000,8100,8200,8300,8400,8500,8600]\n",
        "calloi=[1404300,335700,482100,422475,963900,999975,785550,1823400,3448575,5367450,6510975,5900325,5113350,3844500,2135625,2252250,1083750]\n",
        "putoi=[4087050,1029150,2977875,1975650,2336700,4548450,3690900,5783025,4864125,2559375,1447125,310500,248775,355725,255525,488475,58500]\n",
        "frame={'strike':strike,'calloi':calloi,'putoi':putoi}\n",
        "dft=pd.DataFrame(frame)\n",
        "\n",
        "dft['helpcall'] = dft['strike'] - dft.loc[0,'strike']\n",
        "dft['helpput'] = dft['strike'].iloc[-1] - dft['strike']\n",
        "\n",
        "j = 0\n",
        "a = 0\n",
        "'''for i in range(0,len(dft)):\n",
        "  a = 0\n",
        "  b = 0\n",
        "  for j in range(0,i):\n",
        "    print(i,j,dft['putoi'].iloc[j],dft['helpput'].iloc[i-j],b)\n",
        "    a = a + dft['calloi'].iloc[j] * dft['helpcall'].iloc[i-j]\n",
        "    b = b + dft['putoi'].iloc[j] * dft['helpput'].iloc[i-j]\n",
        "    #print(j)'''\n",
        "for i in range(len(dft)-1,0,-1):\n",
        "  b = 0\n",
        "  for j in range(0,i+1):\n",
        "    #print(i,j)\n",
        "    print(i,j,dft['putoi'].iloc[j-i],dft['helpcall'].iloc[-j],b)\n",
        "    b = b + dft['putoi'].iloc[j-i] * dft['helpcall'].iloc[-j]\n",
        "    #print(j)\n",
        "\n",
        "  print('######')\n",
        "  print(b)\n",
        "#dft.head()"
      ],
      "execution_count": 37,
      "outputs": [
        {
          "output_type": "stream",
          "text": [
            "16 0 1029150 0 0\n",
            "16 1 2977875 1600 0\n",
            "16 2 1975650 1500 4764600000\n",
            "16 3 2336700 1400 7728075000\n",
            "16 4 4548450 1300 10999455000\n",
            "16 5 3690900 1200 16912440000\n",
            "16 6 5783025 1100 21341520000\n",
            "16 7 4864125 1000 27702847500\n",
            "16 8 2559375 900 32566972500\n",
            "16 9 1447125 800 34870410000\n",
            "16 10 310500 700 36028110000\n",
            "16 11 248775 600 36245460000\n",
            "16 12 355725 500 36394725000\n",
            "16 13 255525 400 36572587500\n",
            "16 14 488475 300 36674797500\n",
            "16 15 58500 200 36821340000\n",
            "16 16 4087050 100 36833040000\n",
            "######\n",
            "37241745000\n",
            "15 0 2977875 0 0\n",
            "15 1 1975650 1600 0\n",
            "15 2 2336700 1500 3161040000\n",
            "15 3 4548450 1400 6666090000\n",
            "15 4 3690900 1300 13033920000\n",
            "15 5 5783025 1200 17832090000\n",
            "15 6 4864125 1100 24771720000\n",
            "15 7 2559375 1000 30122257500\n",
            "15 8 1447125 900 32681632500\n",
            "15 9 310500 800 33984045000\n",
            "15 10 248775 700 34232445000\n",
            "15 11 355725 600 34406587500\n",
            "15 12 255525 500 34620022500\n",
            "15 13 488475 400 34747785000\n",
            "15 14 58500 300 34943175000\n",
            "15 15 4087050 200 34960725000\n",
            "######\n",
            "35778135000\n",
            "14 0 1975650 0 0\n",
            "14 1 2336700 1600 0\n",
            "14 2 4548450 1500 3738720000\n",
            "14 3 3690900 1400 10561395000\n",
            "14 4 5783025 1300 15728655000\n",
            "14 5 4864125 1200 23246587500\n",
            "14 6 2559375 1100 29083537500\n",
            "14 7 1447125 1000 31898850000\n",
            "14 8 310500 900 33345975000\n",
            "14 9 248775 800 33625425000\n",
            "14 10 355725 700 33824445000\n",
            "14 11 255525 600 34073452500\n",
            "14 12 488475 500 34226767500\n",
            "14 13 58500 400 34471005000\n",
            "14 14 4087050 300 34494405000\n",
            "######\n",
            "35720520000\n",
            "13 0 2336700 0 0\n",
            "13 1 4548450 1600 0\n",
            "13 2 3690900 1500 7277520000\n",
            "13 3 5783025 1400 12813870000\n",
            "13 4 4864125 1300 20910105000\n",
            "13 5 2559375 1200 27233467500\n",
            "13 6 1447125 1100 30304717500\n",
            "13 7 310500 1000 31896555000\n",
            "13 8 248775 900 32207055000\n",
            "13 9 355725 800 32430952500\n",
            "13 10 255525 700 32715532500\n",
            "13 11 488475 600 32894400000\n",
            "13 12 58500 500 33187485000\n",
            "13 13 4087050 400 33216735000\n",
            "######\n",
            "34851555000\n",
            "12 0 4548450 0 0\n",
            "12 1 3690900 1600 0\n",
            "12 2 5783025 1500 5905440000\n",
            "12 3 4864125 1400 14579977500\n",
            "12 4 2559375 1300 21389752500\n",
            "12 5 1447125 1200 24716940000\n",
            "12 6 310500 1100 26453490000\n",
            "12 7 248775 1000 26795040000\n",
            "12 8 355725 900 27043815000\n",
            "12 9 255525 800 27363967500\n",
            "12 10 488475 700 27568387500\n",
            "12 11 58500 600 27910320000\n",
            "12 12 4087050 500 27945420000\n",
            "######\n",
            "29988945000\n",
            "11 0 3690900 0 0\n",
            "11 1 5783025 1600 0\n",
            "11 2 4864125 1500 9252840000\n",
            "11 3 2559375 1400 16549027500\n",
            "11 4 1447125 1300 20132152500\n",
            "11 5 310500 1200 22013415000\n",
            "11 6 248775 1100 22386015000\n",
            "11 7 355725 1000 22659667500\n",
            "11 8 255525 900 23015392500\n",
            "11 9 488475 800 23245365000\n",
            "11 10 58500 700 23636145000\n",
            "11 11 4087050 600 23677095000\n",
            "######\n",
            "26129325000\n",
            "10 0 5783025 0 0\n",
            "10 1 4864125 1600 0\n",
            "10 2 2559375 1500 7782600000\n",
            "10 3 1447125 1400 11621662500\n",
            "10 4 310500 1300 13647637500\n",
            "10 5 248775 1200 14051287500\n",
            "10 6 355725 1100 14349817500\n",
            "10 7 255525 1000 14741115000\n",
            "10 8 488475 900 14996640000\n",
            "10 9 58500 800 15436267500\n",
            "10 10 4087050 700 15483067500\n",
            "######\n",
            "18344002500\n",
            "9 0 4864125 0 0\n",
            "9 1 2559375 1600 0\n",
            "9 2 1447125 1500 4095000000\n",
            "9 3 310500 1400 6265687500\n",
            "9 4 248775 1300 6700387500\n",
            "9 5 355725 1200 7023795000\n",
            "9 6 255525 1100 7450665000\n",
            "9 7 488475 1000 7731742500\n",
            "9 8 58500 900 8220217500\n",
            "9 9 4087050 800 8272867500\n",
            "######\n",
            "11542507500\n",
            "8 0 2559375 0 0\n",
            "8 1 1447125 1600 0\n",
            "8 2 310500 1500 2315400000\n",
            "8 3 248775 1400 2781150000\n",
            "8 4 355725 1300 3129435000\n",
            "8 5 255525 1200 3591877500\n",
            "8 6 488475 1100 3898507500\n",
            "8 7 58500 1000 4435830000\n",
            "8 8 4087050 900 4494330000\n",
            "######\n",
            "8172675000\n",
            "7 0 1447125 0 0\n",
            "7 1 310500 1600 0\n",
            "7 2 248775 1500 496800000\n",
            "7 3 355725 1400 869962500\n",
            "7 4 255525 1300 1367977500\n",
            "7 5 488475 1200 1700160000\n",
            "7 6 58500 1100 2286330000\n",
            "7 7 4087050 1000 2350680000\n",
            "######\n",
            "6437730000\n",
            "6 0 310500 0 0\n",
            "6 1 248775 1600 0\n",
            "6 2 355725 1500 398040000\n",
            "6 3 255525 1400 931627500\n",
            "6 4 488475 1300 1289362500\n",
            "6 5 58500 1200 1924380000\n",
            "6 6 4087050 1100 1994580000\n",
            "######\n",
            "6490335000\n",
            "5 0 248775 0 0\n",
            "5 1 355725 1600 0\n",
            "5 2 255525 1500 569160000\n",
            "5 3 488475 1400 952447500\n",
            "5 4 58500 1300 1636312500\n",
            "5 5 4087050 1200 1712362500\n",
            "######\n",
            "6616822500\n",
            "4 0 355725 0 0\n",
            "4 1 255525 1600 0\n",
            "4 2 488475 1500 408840000\n",
            "4 3 58500 1400 1141552500\n",
            "4 4 4087050 1300 1223452500\n",
            "######\n",
            "6536617500\n",
            "3 0 255525 0 0\n",
            "3 1 488475 1600 0\n",
            "3 2 58500 1500 781560000\n",
            "3 3 4087050 1400 869310000\n",
            "######\n",
            "6591180000\n",
            "2 0 488475 0 0\n",
            "2 1 58500 1600 0\n",
            "2 2 4087050 1500 93600000\n",
            "######\n",
            "6224175000\n",
            "1 0 58500 0 0\n",
            "1 1 4087050 1600 0\n",
            "######\n",
            "6539280000\n"
          ],
          "name": "stdout"
        }
      ]
    },
    {
      "cell_type": "code",
      "metadata": {
        "id": "oi9yHKAYCBxZ",
        "colab_type": "code",
        "outputId": "32b9bdf9-0556-4614-c329-67c94cf24a1c",
        "colab": {
          "base_uri": "https://localhost:8080/",
          "height": 206
        }
      },
      "source": [
        "df.head()"
      ],
      "execution_count": 0,
      "outputs": [
        {
          "output_type": "execute_result",
          "data": {
            "text/html": [
              "<div>\n",
              "<style scoped>\n",
              "    .dataframe tbody tr th:only-of-type {\n",
              "        vertical-align: middle;\n",
              "    }\n",
              "\n",
              "    .dataframe tbody tr th {\n",
              "        vertical-align: top;\n",
              "    }\n",
              "\n",
              "    .dataframe thead th {\n",
              "        text-align: right;\n",
              "    }\n",
              "</style>\n",
              "<table border=\"1\" class=\"dataframe\">\n",
              "  <thead>\n",
              "    <tr style=\"text-align: right;\">\n",
              "      <th></th>\n",
              "      <th>strik</th>\n",
              "      <th>calloi</th>\n",
              "      <th>putoi</th>\n",
              "      <th>helpcall</th>\n",
              "      <th>helpput</th>\n",
              "    </tr>\n",
              "  </thead>\n",
              "  <tbody>\n",
              "    <tr>\n",
              "      <th>0</th>\n",
              "      <td>8100</td>\n",
              "      <td>2700</td>\n",
              "      <td>281925</td>\n",
              "      <td>0</td>\n",
              "      <td>6600</td>\n",
              "    </tr>\n",
              "    <tr>\n",
              "      <th>1</th>\n",
              "      <td>8150</td>\n",
              "      <td>0</td>\n",
              "      <td>0</td>\n",
              "      <td>50</td>\n",
              "      <td>6550</td>\n",
              "    </tr>\n",
              "    <tr>\n",
              "      <th>2</th>\n",
              "      <td>8200</td>\n",
              "      <td>375</td>\n",
              "      <td>1875</td>\n",
              "      <td>100</td>\n",
              "      <td>6500</td>\n",
              "    </tr>\n",
              "    <tr>\n",
              "      <th>3</th>\n",
              "      <td>8250</td>\n",
              "      <td>0</td>\n",
              "      <td>0</td>\n",
              "      <td>150</td>\n",
              "      <td>6450</td>\n",
              "    </tr>\n",
              "    <tr>\n",
              "      <th>4</th>\n",
              "      <td>8300</td>\n",
              "      <td>84450</td>\n",
              "      <td>594000</td>\n",
              "      <td>200</td>\n",
              "      <td>6400</td>\n",
              "    </tr>\n",
              "  </tbody>\n",
              "</table>\n",
              "</div>"
            ],
            "text/plain": [
              "   strik  calloi   putoi  helpcall  helpput\n",
              "0   8100    2700  281925         0     6600\n",
              "1   8150       0       0        50     6550\n",
              "2   8200     375    1875       100     6500\n",
              "3   8250       0       0       150     6450\n",
              "4   8300   84450  594000       200     6400"
            ]
          },
          "metadata": {
            "tags": []
          },
          "execution_count": 20
        }
      ]
    },
    {
      "cell_type": "code",
      "metadata": {
        "id": "5cWcc0ypCGx-",
        "colab_type": "code",
        "outputId": "964dfc3e-6026-4ebb-e49e-1ac6ebebf39d",
        "colab": {
          "base_uri": "https://localhost:8080/",
          "height": 206
        }
      },
      "source": [
        "df.tail()"
      ],
      "execution_count": 0,
      "outputs": [
        {
          "output_type": "execute_result",
          "data": {
            "text/html": [
              "<div>\n",
              "<style scoped>\n",
              "    .dataframe tbody tr th:only-of-type {\n",
              "        vertical-align: middle;\n",
              "    }\n",
              "\n",
              "    .dataframe tbody tr th {\n",
              "        vertical-align: top;\n",
              "    }\n",
              "\n",
              "    .dataframe thead th {\n",
              "        text-align: right;\n",
              "    }\n",
              "</style>\n",
              "<table border=\"1\" class=\"dataframe\">\n",
              "  <thead>\n",
              "    <tr style=\"text-align: right;\">\n",
              "      <th></th>\n",
              "      <th>strik</th>\n",
              "      <th>calloi</th>\n",
              "      <th>putoi</th>\n",
              "      <th>helpcall</th>\n",
              "      <th>helpput</th>\n",
              "    </tr>\n",
              "  </thead>\n",
              "  <tbody>\n",
              "    <tr>\n",
              "      <th>120</th>\n",
              "      <td>14300</td>\n",
              "      <td>0</td>\n",
              "      <td>0</td>\n",
              "      <td>6200</td>\n",
              "      <td>400</td>\n",
              "    </tr>\n",
              "    <tr>\n",
              "      <th>121</th>\n",
              "      <td>14400</td>\n",
              "      <td>1800</td>\n",
              "      <td>0</td>\n",
              "      <td>6300</td>\n",
              "      <td>300</td>\n",
              "    </tr>\n",
              "    <tr>\n",
              "      <th>122</th>\n",
              "      <td>14500</td>\n",
              "      <td>46650</td>\n",
              "      <td>26100</td>\n",
              "      <td>6400</td>\n",
              "      <td>200</td>\n",
              "    </tr>\n",
              "    <tr>\n",
              "      <th>123</th>\n",
              "      <td>14600</td>\n",
              "      <td>0</td>\n",
              "      <td>0</td>\n",
              "      <td>6500</td>\n",
              "      <td>100</td>\n",
              "    </tr>\n",
              "    <tr>\n",
              "      <th>124</th>\n",
              "      <td>14700</td>\n",
              "      <td>11700</td>\n",
              "      <td>0</td>\n",
              "      <td>6600</td>\n",
              "      <td>0</td>\n",
              "    </tr>\n",
              "  </tbody>\n",
              "</table>\n",
              "</div>"
            ],
            "text/plain": [
              "     strik  calloi  putoi  helpcall  helpput\n",
              "120  14300       0      0      6200      400\n",
              "121  14400    1800      0      6300      300\n",
              "122  14500   46650  26100      6400      200\n",
              "123  14600       0      0      6500      100\n",
              "124  14700   11700      0      6600        0"
            ]
          },
          "metadata": {
            "tags": []
          },
          "execution_count": 21
        }
      ]
    },
    {
      "cell_type": "code",
      "metadata": {
        "id": "gfSMHXeki1UT",
        "colab_type": "code",
        "colab": {}
      },
      "source": [
        "df.to_excel('output.xlsx')"
      ],
      "execution_count": 0,
      "outputs": []
    },
    {
      "cell_type": "code",
      "metadata": {
        "id": "pLWZBwUoHSKT",
        "colab_type": "code",
        "colab": {}
      },
      "source": [
        "from google.colab import files\n",
        "files.download('output.xlsx')"
      ],
      "execution_count": 0,
      "outputs": []
    }
  ]
}