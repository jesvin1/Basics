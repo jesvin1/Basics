{
  "nbformat": 4,
  "nbformat_minor": 0,
  "metadata": {
    "colab": {
      "name": "PCR_MaxPain_high OI_change_in_OI_nifty.ipynb",
      "provenance": [],
      "authorship_tag": "ABX9TyOIjC2jXXSNCuQDFkop86vj",
      "include_colab_link": true
    },
    "kernelspec": {
      "name": "python3",
      "display_name": "Python 3"
    }
  },
  "cells": [
    {
      "cell_type": "markdown",
      "metadata": {
        "id": "view-in-github",
        "colab_type": "text"
      },
      "source": [
        "<a href=\"https://colab.research.google.com/github/jesvin1/Basics/blob/master/PCR_MaxPain_high_OI_change_in_OI_nifty.ipynb\" target=\"_parent\"><img src=\"https://colab.research.google.com/assets/colab-badge.svg\" alt=\"Open In Colab\"/></a>"
      ]
    },
    {
      "cell_type": "code",
      "metadata": {
        "id": "zb99nq7UpGcN",
        "colab_type": "code",
        "colab": {}
      },
      "source": [
        "import pandas as pd\n",
        "import requests\n",
        "from datetime import datetime\n",
        "\n",
        "# Colunn at which strike price is listed in NSE option chain table\n",
        "strike_price_column_index = 11\n",
        "\n",
        "# Encapuslate NSE option data and function\n",
        "class OptionChain:\n",
        "\n",
        "    # static variable to hold current running expiry date\n",
        "    expiry = ''\n",
        "\n",
        "    # Common Utility to find maxinum value in the column, its index and then return the strike price with respect to index value\n",
        "    def find_max_strike_price(self, df, option_type, column_name):\n",
        "\n",
        "        # Covert \"-\" as 0 so that all data can be treated as integer\n",
        "        temp_df = df[option_type].replace(\"-\", \"0\")\n",
        "        # Delete the last row which will have summation of all the data\n",
        "        temp_df = temp_df[:-1]\n",
        "        # Set the specific column as integer (by default it is string)\n",
        "        temp_df[column_name]=temp_df[column_name].astype(int)\n",
        "        # Dind the index value where the max value exists\n",
        "        max_at_index = temp_df[column_name].idxmax()\n",
        "        # Return the strike price which is available in the index value\n",
        "        return(int(df.iloc[max_at_index, strike_price_column_index]))\n",
        "\n",
        "    # Get strike prices where max OI /change in OI for CE and PE\n",
        "    def get_max_OI_data(self, symbol, expiry):\n",
        "\n",
        "        url =\"https://www.nseindia.com/live_market/dynaContent/live_watch/option_chain/optionKeys.jsp?symbol=\" + symbol + \"&date\" + expiry\n",
        "        header = {\n",
        "          \"User-Agent\": \"Mozilla/5.0 (X11; Linux x86_64) AppleWebKit/537.36 (KHTML, like Gecko) Chrome/50.0.2661.75 Safari/537.36\",\n",
        "          \"X-Requested-With\": \"XMLHttpRequest\"\n",
        "        }\n",
        "\n",
        "        # Pull NSE option chain\n",
        "        r = requests.get(url, headers=header)\n",
        "        # Convert html page as Table and read the first table which has option data\n",
        "        df = pd.read_html(r.text)[1]\n",
        "\n",
        "        # Get all max OI data and store to local object variables\n",
        "        self.max_high_oi_ce = self.find_max_strike_price(df, \"CALLS\", \"OI\")\n",
        "        self.max_change_oi_ce = self.find_max_strike_price(df, \"CALLS\", \"Chng in OI\")\n",
        "        self.max_high_oi_pe = self.find_max_strike_price(df, \"PUTS\", \"OI\")\n",
        "        self.max_change_oi_pe = self.find_max_strike_price(df, \"PUTS\", \"Chng in OI\")\n",
        "\n",
        "    # Constructor for OptionChain which will run for every script like Nifty and Banknifty\n",
        "    def __init__(self, symbol):\n",
        "\n",
        "        # Store the symbol\n",
        "        self.symbol = symbol\n",
        "        # Find out the expiry for which we need to pull the details\n",
        "\n",
        "        if not OptionChain.expiry: # If expiry is not yet found\n",
        "            # List the expiry details and read the first expiry\n",
        "            base_url = 'https://www.capitalzone.in/test.php?symbol=' + symbol\n",
        "            page_output = str(requests.get(base_url).content)\n",
        "            expiry_list = page_output.split(\",\")\n",
        "            OptionChain.expiry = expiry_list[0].split(\"\\\"\")[1]\n",
        "            expirydate = datetime.strptime(OptionChain.expiry, '%d%b%Y').date()\n",
        "            todaydate = datetime.today().date()\n",
        "\n",
        "            # If today is greater than expiry, then it is expired. Choose the next expiry in the list\n",
        "            if todaydate > expirydate:\n",
        "                NSEOption.expiry = expiry_list[1].split(\"\\\"\")[1]\n",
        "\n",
        "        # Form the actual URL from which we can pull PCR and max pain\n",
        "        base_url = 'https://www.capitalzone.in/test.php?symbol=' + symbol + \"&expiry=\" + OptionChain.expiry\n",
        "\n",
        "        # Load the page and sent to HTML parse\n",
        "        page_output = str(requests.get(base_url).content)\n",
        "        # Locate the string where max pain string is available\n",
        "        loc = page_output.find(\"\\\"max_pain\\\"\")\n",
        "        data = page_output[loc:].split(\"\\\"\")\n",
        "        # Get max pain and convert from float to integer\n",
        "        self.max_pain = int(float(data[3]))\n",
        "        # Get max pain and convert from string to float\n",
        "        self.pcr = float(data[11])\n",
        "        self.get_max_OI_data(symbol, OptionChain.expiry)\n",
        "\n",
        "    # Tracing utility to display elements of this class if needed (For debugging purpose)\n",
        "    def display_all(self):\n",
        "\n",
        "        print(self.max_pain, self.pcr);"
      ],
      "execution_count": 0,
      "outputs": []
    },
    {
      "cell_type": "code",
      "metadata": {
        "id": "vPavoPn6pzOm",
        "colab_type": "code",
        "colab": {}
      },
      "source": [
        "import requests"
      ],
      "execution_count": 0,
      "outputs": []
    },
    {
      "cell_type": "code",
      "metadata": {
        "id": "CjnzDI-vp0Vz",
        "colab_type": "code",
        "colab": {}
      },
      "source": [
        "url =\"https://www.nseindia.com/live_market/dynaContent/live_watch/option_chain/optionKeys.jsp?symbol=nifty\"\n",
        "HEADERS = {\n",
        "    'User-Agent': 'Mozilla/5.0 (X11; Linux x86_64) AppleWebKit/537.36 (KHTML, like Gecko) Chrome/67.0.3396.87 Safari/537.36',\n",
        "}\n",
        "\n",
        "# Pull NSE option chain\n",
        "#r = requests.get(url, headers=header)\n",
        "# Convert html page as Table and read the first table which has option data\n",
        "#df = pd.read_html(r.text)[1]"
      ],
      "execution_count": 0,
      "outputs": []
    },
    {
      "cell_type": "code",
      "metadata": {
        "id": "DJWsblUeqc6o",
        "colab_type": "code",
        "outputId": "a7781d0c-ed07-4a7d-8791-5ed8cc8928b5",
        "colab": {
          "base_uri": "https://localhost:8080/",
          "height": 35
        }
      },
      "source": [
        "try:\n",
        "  response = requests.get(url, timeout=10, headers=HEADERS)\n",
        "\n",
        "  # If the response was successful, no Exception will be raised\n",
        "  response.raise_for_status()\n",
        "\n",
        "#except HTTPError as http_err:\n",
        "    #print(f'HTTP error occurred: {http_err}')  # Python 3.6\n",
        "except Exception as err:\n",
        "    print(f'Other error occurred: {err}')  # Python 3.6\n",
        "else:\n",
        "    print('Success!')"
      ],
      "execution_count": 0,
      "outputs": [
        {
          "output_type": "stream",
          "text": [
            "Other error occurred: HTTPSConnectionPool(host='www.nseindia.com', port=443): Read timed out. (read timeout=10)\n"
          ],
          "name": "stdout"
        }
      ]
    },
    {
      "cell_type": "code",
      "metadata": {
        "id": "F_bxEgUtVwbF",
        "colab_type": "code",
        "colab": {
          "base_uri": "https://localhost:8080/",
          "height": 371
        },
        "outputId": "23fa4626-2dad-43e1-9b71-e9c93b6d0b8b"
      },
      "source": [
        "\n",
        "import requests\n",
        "import pandas as pd\n",
        "from bs4 import BeautifulSoup\n",
        "\n",
        "\n",
        "\n",
        "def get_option_chain(symbol):\n",
        "\n",
        "    if symbol == 'NIFTY':\n",
        "        Base_url =('https://www.nseindia.com/live_market/dynaContent/live_watch/option_chain/optionKeys.jsp?'\n",
        "                   'symbolCode=-10003&symbol=NIFTY&symbol=NIFTY&instrument=OPTIDX&date=-&segmentLink=17&segmentLink=17')\n",
        "    elif symbol == 'BANKNIFTY':\n",
        "        Base_url =('https://www.nseindia.com/live_market/dynaContent/live_watch/option_chain/optionKeys.jsp?'\n",
        "                   'symbolCode=-9999&symbol=BANKNIFTY&symbol=BANKNIFTY&instrument=OPTIDX&date=-&segmentLink=17&segmentLink=17')\n",
        "    else:\n",
        "        Base_url = ('https://www.nseindia.com//marketinfo/sym_map/symbolMapping.jsp?symbol={}&'\n",
        "                    'instrument=OPTSTK&date=-&segmentLink=17'.format(symbol))\n",
        "    try:\n",
        "        page = requests.get(Base_url,timeout=10)\n",
        "    except Exception as e:\n",
        "        print (\"Exception {} in getting data  for symbol {}\".format(e, symbol))\n",
        "\n",
        "    #print(page.status_code)\n",
        "    #print(page.content)\n",
        "\n",
        "    soup = BeautifulSoup(page.content, 'html.parser')\n",
        "    # print (soup.prettify())\n",
        "\n",
        "    table_it = soup.find_all(\"div\", {\"class\": \"opttbldata\"})\n",
        "    table_cls_1 = soup.find_all(id='octable')\n",
        "\n",
        "    # print (table_it)\n",
        "    # print (table_cls_1)\n",
        "\n",
        "    col_list = []\n",
        "\n",
        "    for mytable in table_cls_1:\n",
        "        table_head = mytable.find('thead')\n",
        "\n",
        "        try:\n",
        "            row = table_head.find_all('tr')\n",
        "            for tr in row:\n",
        "                cols = tr.find_all('th')\n",
        "                for th in cols:\n",
        "                    er = th.text\n",
        "                    ee = er.encode('utf-8')\n",
        "                    col_list.append(ee)\n",
        "        except Exception as e:\n",
        "            print (\"No thead\", e)\n",
        "\n",
        "    col_list_fnl = [e for e in col_list if e not in ('CALLS', 'PUTS', 'Chart', '\\xc2\\xa0')]\n",
        "\n",
        "    # print (col_list_fnl)\n",
        "\n",
        "\n",
        "    table_cls_2 = soup.find(id='octable')\n",
        "    all_trs = table_cls_2.find_all('tr')\n",
        "    req_rows = table_cls_2.find_all('tr')\n",
        "\n",
        "    new_table = pd.DataFrame(index=range(0, len(req_rows)-3), columns=col_list_fnl)\n",
        "\n",
        "    row_marker = 0\n",
        "\n",
        "    for row_number, tr_nos in enumerate(req_rows):\n",
        "        if row_number < 1 or row_number == len(req_rows)-1:\n",
        "            continue\n",
        "        td_columns = tr_nos.find_all('td')\n",
        "\n",
        "        select_cols = td_columns[1:22]\n",
        "        cols_h = range(0, len(select_cols))\n",
        "\n",
        "        for nu, column in enumerate(select_cols):\n",
        "            utf_string = column.get_text().strip('\\n\\r\\t\": ')\n",
        "            tr = utf_string.encode('utf-8').replace(',', '')\n",
        "            new_table.ix[row_number, [nu]] = tr\n",
        "\n",
        "        row_marker += 1\n",
        "\n",
        "    print (new_table)\n",
        "    new_table.to_csv('Option_Chain_Table_{}.csv'.format(symbol))\n",
        "\n",
        "\n",
        "\n",
        "#get_option_chain('WIPRO')\n",
        "get_option_chain('NIFTY')\n",
        "#get_option_chain('BANKNIFTY') "
      ],
      "execution_count": 2,
      "outputs": [
        {
          "output_type": "stream",
          "text": [
            "Exception HTTPSConnectionPool(host='www.nseindia.com', port=443): Read timed out. (read timeout=10) in getting data  for symbol NIFTY\n"
          ],
          "name": "stdout"
        },
        {
          "output_type": "error",
          "ename": "UnboundLocalError",
          "evalue": "ignored",
          "traceback": [
            "\u001b[0;31m---------------------------------------------------------------------------\u001b[0m",
            "\u001b[0;31mUnboundLocalError\u001b[0m                         Traceback (most recent call last)",
            "\u001b[0;32m<ipython-input-2-d6a1c2966653>\u001b[0m in \u001b[0;36m<module>\u001b[0;34m()\u001b[0m\n\u001b[1;32m     84\u001b[0m \u001b[0;34m\u001b[0m\u001b[0m\n\u001b[1;32m     85\u001b[0m \u001b[0;31m#get_option_chain('WIPRO')\u001b[0m\u001b[0;34m\u001b[0m\u001b[0;34m\u001b[0m\u001b[0;34m\u001b[0m\u001b[0m\n\u001b[0;32m---> 86\u001b[0;31m \u001b[0mget_option_chain\u001b[0m\u001b[0;34m(\u001b[0m\u001b[0;34m'NIFTY'\u001b[0m\u001b[0;34m)\u001b[0m\u001b[0;34m\u001b[0m\u001b[0;34m\u001b[0m\u001b[0m\n\u001b[0m\u001b[1;32m     87\u001b[0m \u001b[0;31m#get_option_chain('BANKNIFTY')\u001b[0m\u001b[0;34m\u001b[0m\u001b[0;34m\u001b[0m\u001b[0;34m\u001b[0m\u001b[0m\n",
            "\u001b[0;32m<ipython-input-2-d6a1c2966653>\u001b[0m in \u001b[0;36mget_option_chain\u001b[0;34m(symbol)\u001b[0m\n\u001b[1;32m     25\u001b[0m     \u001b[0;31m#print(page.content)\u001b[0m\u001b[0;34m\u001b[0m\u001b[0;34m\u001b[0m\u001b[0;34m\u001b[0m\u001b[0m\n\u001b[1;32m     26\u001b[0m \u001b[0;34m\u001b[0m\u001b[0m\n\u001b[0;32m---> 27\u001b[0;31m     \u001b[0msoup\u001b[0m \u001b[0;34m=\u001b[0m \u001b[0mBeautifulSoup\u001b[0m\u001b[0;34m(\u001b[0m\u001b[0mpage\u001b[0m\u001b[0;34m.\u001b[0m\u001b[0mcontent\u001b[0m\u001b[0;34m,\u001b[0m \u001b[0;34m'html.parser'\u001b[0m\u001b[0;34m)\u001b[0m\u001b[0;34m\u001b[0m\u001b[0;34m\u001b[0m\u001b[0m\n\u001b[0m\u001b[1;32m     28\u001b[0m     \u001b[0;31m# print (soup.prettify())\u001b[0m\u001b[0;34m\u001b[0m\u001b[0;34m\u001b[0m\u001b[0;34m\u001b[0m\u001b[0m\n\u001b[1;32m     29\u001b[0m \u001b[0;34m\u001b[0m\u001b[0m\n",
            "\u001b[0;31mUnboundLocalError\u001b[0m: local variable 'page' referenced before assignment"
          ]
        }
      ]
    },
    {
      "cell_type": "code",
      "metadata": {
        "id": "SOTYpuIM1UlT",
        "colab_type": "code",
        "colab": {
          "base_uri": "https://localhost:8080/",
          "height": 72
        },
        "outputId": "aeefa6bf-7e6c-4918-f664-c145965d3438"
      },
      "source": [
        "!pip install BeautifulSoup\n",
        "http://quantsnippets.blogspot.com/2014/01/get-option-dataspot-price-from-nse.html"
      ],
      "execution_count": 9,
      "outputs": [
        {
          "output_type": "stream",
          "text": [
            "Collecting BeautifulSoup\n",
            "  Downloading https://files.pythonhosted.org/packages/40/f2/6c9f2f3e696ee6a1fb0e4d7850617e224ed2b0b1e872110abffeca2a09d4/BeautifulSoup-3.2.2.tar.gz\n",
            "\u001b[31mERROR: Command errored out with exit status 1: python setup.py egg_info Check the logs for full command output.\u001b[0m\n"
          ],
          "name": "stdout"
        }
      ]
    },
    {
      "cell_type": "code",
      "metadata": {
        "id": "scIJFkLszx6y",
        "colab_type": "code",
        "colab": {}
      },
      "source": [
        "from urllib.request import urlopen \n",
        "#from BeautifulSoup import BeautifulSoup  \n",
        "#import datetime  \n",
        "#import pandas  \n",
        "#import csv  \n",
        "#import os  \n",
        "#import re  \n",
        "#import logging "
      ],
      "execution_count": 0,
      "outputs": []
    },
    {
      "cell_type": "code",
      "metadata": {
        "id": "TYWWfe4K3aLK",
        "colab_type": "code",
        "colab": {}
      },
      "source": [
        ""
      ],
      "execution_count": 0,
      "outputs": []
    }
  ]
}