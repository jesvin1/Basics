{
  "nbformat": 4,
  "nbformat_minor": 0,
  "metadata": {
    "colab": {
      "name": "PCR_MaxPain_high OI_change_in_OI_nifty.ipynb",
      "provenance": [],
      "authorship_tag": "ABX9TyMZ0wHh5C3egdYh+kQFWc3v",
      "include_colab_link": true
    },
    "kernelspec": {
      "name": "python3",
      "display_name": "Python 3"
    }
  },
  "cells": [
    {
      "cell_type": "markdown",
      "metadata": {
        "id": "view-in-github",
        "colab_type": "text"
      },
      "source": [
        "<a href=\"https://colab.research.google.com/github/jesvin1/Basics/blob/master/PCR_MaxPain_high_OI_change_in_OI_nifty.ipynb\" target=\"_parent\"><img src=\"https://colab.research.google.com/assets/colab-badge.svg\" alt=\"Open In Colab\"/></a>"
      ]
    },
    {
      "cell_type": "markdown",
      "metadata": {
        "id": "EvqjxE8QhinG",
        "colab_type": "text"
      },
      "source": [
        "#Mounting google drive to read the downloaded nse website option chain"
      ]
    },
    {
      "cell_type": "code",
      "metadata": {
        "id": "_gF3OazUhJzL",
        "colab_type": "code",
        "outputId": "b75ed881-ed72-4dcf-f15e-1e33dd6bed01",
        "colab": {
          "base_uri": "https://localhost:8080/",
          "height": 128
        }
      },
      "source": [
        "# Load the Drive helper and mount\n",
        "from google.colab import drive\n",
        "\n",
        "# This will prompt for authorization.\n",
        "drive.mount('/content/drive')"
      ],
      "execution_count": 0,
      "outputs": [
        {
          "output_type": "stream",
          "text": [
            "Go to this URL in a browser: https://accounts.google.com/o/oauth2/auth?client_id=947318989803-6bn6qk8qdgf4n4g3pfee6491hc0brc4i.apps.googleusercontent.com&redirect_uri=urn%3aietf%3awg%3aoauth%3a2.0%3aoob&response_type=code&scope=email%20https%3a%2f%2fwww.googleapis.com%2fauth%2fdocs.test%20https%3a%2f%2fwww.googleapis.com%2fauth%2fdrive%20https%3a%2f%2fwww.googleapis.com%2fauth%2fdrive.photos.readonly%20https%3a%2f%2fwww.googleapis.com%2fauth%2fpeopleapi.readonly\n",
            "\n",
            "Enter your authorization code:\n",
            "··········\n",
            "Mounted at /content/drive\n"
          ],
          "name": "stdout"
        }
      ]
    },
    {
      "cell_type": "code",
      "metadata": {
        "id": "sxD4RxpxiTDZ",
        "colab_type": "code",
        "colab": {}
      },
      "source": [
        "!cd \"/content/drive/My Drive/Colab Notebooks/NSE_Site_Option_Chain_Page/\""
      ],
      "execution_count": 0,
      "outputs": []
    },
    {
      "cell_type": "code",
      "metadata": {
        "id": "HSciFnmNkwWU",
        "colab_type": "code",
        "colab": {}
      },
      "source": [
        "from bs4 import BeautifulSoup\n",
        "import codecs\n",
        "import pandas as pd\n",
        "file=\"/content/drive/My Drive/Colab Notebooks/NSE_Site_Option_Chain_Page/NSE - National Stock Exchange of India Ltd.html\""
      ],
      "execution_count": 0,
      "outputs": []
    },
    {
      "cell_type": "code",
      "metadata": {
        "id": "Kmd7di7Eh8zq",
        "colab_type": "code",
        "colab": {}
      },
      "source": [
        "page = open(file,encoding='latin-1')\n",
        "soup = BeautifulSoup(page, \"html.parser\")"
      ],
      "execution_count": 0,
      "outputs": []
    },
    {
      "cell_type": "code",
      "metadata": {
        "id": "t6e0wRWjJMKm",
        "colab_type": "code",
        "colab": {}
      },
      "source": [
        "#soup = BeautifulSoup(HtmlFile.read(), 'html.parser')\n",
        "#print (soup.prettify())\n",
        "\n",
        "table_it = soup.find_all(\"div\", {\"class\": \"opttbldata\"})\n",
        "table_cls_1 = soup.find_all(id='octable')\n",
        "\n",
        "#print (table_it)\n",
        "#print (table_cls_1)"
      ],
      "execution_count": 0,
      "outputs": []
    },
    {
      "cell_type": "code",
      "metadata": {
        "id": "UfKTzPGsicBM",
        "colab_type": "code",
        "outputId": "abdd64f1-e65d-4e22-da2c-089030239ac1",
        "colab": {
          "base_uri": "https://localhost:8080/",
          "height": 206
        }
      },
      "source": [
        "table_cls_2 = soup.find(id=\"octable\")\n",
        "req_row = table_cls_2.find_all('tr')\n",
        "col=3\n",
        "strike_price_list = []\n",
        "calloi_list=[]\n",
        "putoi_list=[]\n",
        "for row_number, tr_nos in enumerate(req_row):\n",
        "  # This ensures that we use only the rows with values\n",
        "  if row_number <= 1 or row_number == len(req_row) - 1:\n",
        "    continue\n",
        "\n",
        "  td_columns = tr_nos.find_all('td')\n",
        "  strike_price = int(float(BeautifulSoup(str(td_columns[11]), 'html.parser').get_text()))\n",
        "  calloi = int(float(BeautifulSoup((str(td_columns[1]).replace('-','0').replace(',', '')), 'html.parser').get_text()))\n",
        "  putoi = int(float(BeautifulSoup((str(td_columns[21]).replace('-','0').replace(',', '')), 'html.parser').get_text()))\n",
        "  strike_price_list.append(strike_price)\n",
        "  calloi_list.append(calloi)\n",
        "  putoi_list.append(putoi)\n",
        "  #print(str(td_columns[1]).replace(',', ''))\n",
        "\n",
        "df = pd.DataFrame(list(zip(strike_price_list,calloi_list,putoi_list)),columns=['strik','calloi','putoi'])\n",
        "df.head()\n",
        "  "
      ],
      "execution_count": 0,
      "outputs": [
        {
          "output_type": "execute_result",
          "data": {
            "text/html": [
              "<div>\n",
              "<style scoped>\n",
              "    .dataframe tbody tr th:only-of-type {\n",
              "        vertical-align: middle;\n",
              "    }\n",
              "\n",
              "    .dataframe tbody tr th {\n",
              "        vertical-align: top;\n",
              "    }\n",
              "\n",
              "    .dataframe thead th {\n",
              "        text-align: right;\n",
              "    }\n",
              "</style>\n",
              "<table border=\"1\" class=\"dataframe\">\n",
              "  <thead>\n",
              "    <tr style=\"text-align: right;\">\n",
              "      <th></th>\n",
              "      <th>strik</th>\n",
              "      <th>calloi</th>\n",
              "      <th>putoi</th>\n",
              "    </tr>\n",
              "  </thead>\n",
              "  <tbody>\n",
              "    <tr>\n",
              "      <th>0</th>\n",
              "      <td>10150</td>\n",
              "      <td>0</td>\n",
              "      <td>0</td>\n",
              "    </tr>\n",
              "    <tr>\n",
              "      <th>1</th>\n",
              "      <td>10200</td>\n",
              "      <td>0</td>\n",
              "      <td>0</td>\n",
              "    </tr>\n",
              "    <tr>\n",
              "      <th>2</th>\n",
              "      <td>10250</td>\n",
              "      <td>0</td>\n",
              "      <td>0</td>\n",
              "    </tr>\n",
              "    <tr>\n",
              "      <th>3</th>\n",
              "      <td>10300</td>\n",
              "      <td>0</td>\n",
              "      <td>300</td>\n",
              "    </tr>\n",
              "    <tr>\n",
              "      <th>4</th>\n",
              "      <td>10350</td>\n",
              "      <td>75</td>\n",
              "      <td>23925</td>\n",
              "    </tr>\n",
              "  </tbody>\n",
              "</table>\n",
              "</div>"
            ],
            "text/plain": [
              "   strik  calloi  putoi\n",
              "0  10150       0      0\n",
              "1  10200       0      0\n",
              "2  10250       0      0\n",
              "3  10300       0    300\n",
              "4  10350      75  23925"
            ]
          },
          "metadata": {
            "tags": []
          },
          "execution_count": 5
        }
      ]
    },
    {
      "cell_type": "code",
      "metadata": {
        "id": "gfSMHXeki1UT",
        "colab_type": "code",
        "colab": {}
      },
      "source": [
        "df.to_excel('output.xlsx')"
      ],
      "execution_count": 0,
      "outputs": []
    },
    {
      "cell_type": "code",
      "metadata": {
        "id": "pLWZBwUoHSKT",
        "colab_type": "code",
        "colab": {}
      },
      "source": [
        "from google.colab import files\n",
        "files.download('output.xlsx')"
      ],
      "execution_count": 0,
      "outputs": []
    }
  ]
}