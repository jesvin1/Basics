{
  "nbformat": 4,
  "nbformat_minor": 0,
  "metadata": {
    "colab": {
      "name": "Nifty Prediction.ipynb",
      "provenance": [],
      "authorship_tag": "ABX9TyNO2mAS5Io3DKkfZ9Zg05cS",
      "include_colab_link": true
    },
    "kernelspec": {
      "name": "python3",
      "display_name": "Python 3"
    }
  },
  "cells": [
    {
      "cell_type": "markdown",
      "metadata": {
        "id": "view-in-github",
        "colab_type": "text"
      },
      "source": [
        "<a href=\"https://colab.research.google.com/github/jesvin1/Basics/blob/master/Nifty_Prediction.ipynb\" target=\"_parent\"><img src=\"https://colab.research.google.com/assets/colab-badge.svg\" alt=\"Open In Colab\"/></a>"
      ]
    },
    {
      "cell_type": "markdown",
      "metadata": {
        "id": "0ChwJ9OAs6-L",
        "colab_type": "text"
      },
      "source": [
        "#Importing the required packages"
      ]
    },
    {
      "cell_type": "code",
      "metadata": {
        "id": "xzkGWlXfsUgI",
        "colab_type": "code",
        "colab": {
          "base_uri": "https://localhost:8080/",
          "height": 380
        },
        "outputId": "795b827d-a4c4-44cb-d1a5-9d96d22997b4"
      },
      "source": [
        "!pip install yfinance"
      ],
      "execution_count": 2,
      "outputs": [
        {
          "output_type": "stream",
          "text": [
            "Collecting yfinance\n",
            "  Downloading https://files.pythonhosted.org/packages/c2/31/8b374a12b90def92a4e27d0fc595fc43635f395984e36a075244d98bd265/yfinance-0.1.54.tar.gz\n",
            "Requirement already satisfied: pandas>=0.24 in /usr/local/lib/python3.6/dist-packages (from yfinance) (0.25.3)\n",
            "Requirement already satisfied: numpy>=1.15 in /usr/local/lib/python3.6/dist-packages (from yfinance) (1.17.5)\n",
            "Requirement already satisfied: requests>=2.20 in /usr/local/lib/python3.6/dist-packages (from yfinance) (2.21.0)\n",
            "Requirement already satisfied: multitasking>=0.0.7 in /usr/local/lib/python3.6/dist-packages (from yfinance) (0.0.9)\n",
            "Requirement already satisfied: pytz>=2017.2 in /usr/local/lib/python3.6/dist-packages (from pandas>=0.24->yfinance) (2018.9)\n",
            "Requirement already satisfied: python-dateutil>=2.6.1 in /usr/local/lib/python3.6/dist-packages (from pandas>=0.24->yfinance) (2.6.1)\n",
            "Requirement already satisfied: idna<2.9,>=2.5 in /usr/local/lib/python3.6/dist-packages (from requests>=2.20->yfinance) (2.8)\n",
            "Requirement already satisfied: chardet<3.1.0,>=3.0.2 in /usr/local/lib/python3.6/dist-packages (from requests>=2.20->yfinance) (3.0.4)\n",
            "Requirement already satisfied: certifi>=2017.4.17 in /usr/local/lib/python3.6/dist-packages (from requests>=2.20->yfinance) (2019.11.28)\n",
            "Requirement already satisfied: urllib3<1.25,>=1.21.1 in /usr/local/lib/python3.6/dist-packages (from requests>=2.20->yfinance) (1.24.3)\n",
            "Requirement already satisfied: six>=1.5 in /usr/local/lib/python3.6/dist-packages (from python-dateutil>=2.6.1->pandas>=0.24->yfinance) (1.12.0)\n",
            "Building wheels for collected packages: yfinance\n",
            "  Building wheel for yfinance (setup.py) ... \u001b[?25l\u001b[?25hdone\n",
            "  Created wheel for yfinance: filename=yfinance-0.1.54-py2.py3-none-any.whl size=22409 sha256=73011f8c20e510d9fc89bd8f790adb19d95adee6167b786b1937ebfbfbbb7824\n",
            "  Stored in directory: /root/.cache/pip/wheels/f9/e3/5b/ec24dd2984b12d61e0abf26289746c2436a0e7844f26f2515c\n",
            "Successfully built yfinance\n",
            "Installing collected packages: yfinance\n",
            "Successfully installed yfinance-0.1.54\n"
          ],
          "name": "stdout"
        }
      ]
    },
    {
      "cell_type": "code",
      "metadata": {
        "id": "DBFxIHps6H8L",
        "colab_type": "code",
        "colab": {}
      },
      "source": [
        "# imports datetime for picking beginning and end dates for the analysis\n",
        "import datetime\n",
        "# imports yahoo finance for getting historical stock prices\n",
        "import yfinance as yf\n",
        "# imports pandas for dataframe manipulation\n",
        "import pandas as pd\n",
        "# imports numpy\n",
        "import numpy as np\n",
        "# for data visualization\n",
        "import matplotlib as mpl\n",
        "# for changing the plot size in the Jupyter Notebook output\n",
        "%matplotlib inline\n",
        "# sets the plot size to 12x8\n",
        "mpl.rcParams['figure.figsize'] = (12,8)\n",
        "# for shorter lines with plotting\n",
        "from matplotlib import pyplot as plt\n",
        "# to hide warning messages\n",
        "import warnings\n",
        "warnings.filterwarnings('ignore')\n",
        "import statsmodels.tsa.api as smt\n",
        "import statsmodels.api as sm\n",
        "import scipy.stats as scs\n",
        "\n",
        "from statsmodels.tsa.stattools import adfuller\n",
        "from statsmodels.tsa.stattools import kpss\n",
        "from statsmodels.tsa.stattools import coint\n",
        "\n",
        "# sets the sample period as 5 years back from 09/12/2019\n",
        "end = datetime.datetime(2019, 9, 12)\n",
        "start = end - datetime.timedelta(days = 13*365) #including the recession time\n",
        "\n",
        "\n"
      ],
      "execution_count": 0,
      "outputs": []
    },
    {
      "cell_type": "markdown",
      "metadata": {
        "id": "Pr3v6JjgtV4C",
        "colab_type": "text"
      },
      "source": [
        "#Function for Ploting, Stationary testing and to find Best ARIMA"
      ]
    },
    {
      "cell_type": "code",
      "metadata": {
        "id": "xGVp2n0w6H8O",
        "colab_type": "code",
        "colab": {}
      },
      "source": [
        "def tsplot(y, lags=None, figsize=(10, 8), style='seaborn-bright'):\n",
        "    if not isinstance(y, pd.Series):\n",
        "        y = pd.Series(y)\n",
        "    with plt.style.context(style):\n",
        "        fig = plt.figure(figsize=figsize)\n",
        "        layout = (3, 2)\n",
        "        ts_ax = plt.subplot2grid(layout, (0, 0), colspan=2)\n",
        "        acf_ax = plt.subplot2grid(layout, (1, 0))\n",
        "        pacf_ax = plt.subplot2grid(layout, (1, 1))\n",
        "        qq_ax = plt.subplot2grid(layout, (2, 0))\n",
        "        pp_ax = plt.subplot2grid(layout, (2, 1))\n",
        "        \n",
        "        y.plot(ax=ts_ax, linewidth=1.5)\n",
        "        ts_ax.set_title('Time Series Analysis Plots')\n",
        "        smt.graphics.plot_acf(y, lags=lags, ax=acf_ax, alpha=0.05)\n",
        "        smt.graphics.plot_pacf(y, lags=lags, ax=pacf_ax, alpha=0.05)\n",
        "        sm.qqplot(y, line='s', ax=qq_ax)\n",
        "        qq_ax.set_title('QQ Plot')\n",
        "        scs.probplot(y, sparams=(y.mean(), y.std()), plot=pp_ax)\n",
        "        \n",
        "        plt.tight_layout()\n",
        "    \n",
        "    return"
      ],
      "execution_count": 0,
      "outputs": []
    },
    {
      "cell_type": "code",
      "metadata": {
        "id": "cY-SLN256H8R",
        "colab_type": "code",
        "colab": {}
      },
      "source": [
        "class StationarityTests:\n",
        "    def __init__(self, significance=.05):\n",
        "        self.SignificanceLevel = significance\n",
        "        self.pValue = None\n",
        "        self.isStationary = None\n",
        "        \n",
        "    def ADF_Stationarity_Test(self, timeseries, printResults = True, test_type='adfuller'):\n",
        "        \n",
        "        if test_type=='adfuller':\n",
        "            \n",
        "            #Dickey-Fuller test:\n",
        "            adfTest = adfuller(timeseries, autolag='AIC')\n",
        "\n",
        "            self.pValue = adfTest[1]\n",
        "\n",
        "            if (self.pValue<self.SignificanceLevel):\n",
        "                self.isStationary = True\n",
        "            else:\n",
        "                self.isStationary = False\n",
        "\n",
        "            if printResults:\n",
        "                dfResults = pd.Series(adfTest[0:4], index=['ADF Test Statistic','P-Value','# Lags Used','# Observations Used'])\n",
        "\n",
        "                #Add Critical Values\n",
        "                for key,value in adfTest[4].items():\n",
        "                    dfResults['Critical Value (%s)'%key] = value\n",
        "\n",
        "                print('####################################Augmented Dickey-Fuller Test Results:####################################')\n",
        "                print(dfResults)\n",
        "                print(\"Is the time series stationary? {0}\".format(sTest.isStationary))\n",
        "        if test_type =='adfuller':\n",
        "            \n",
        "            #Kwiatkowski-Phillips-Schmidt-Shin test for stationarity:\n",
        "            kpssTest = kpss(timeseries)\n",
        "\n",
        "            self.pValue = kpssTest[1]\n",
        "\n",
        "            if (self.pValue<self.SignificanceLevel):\n",
        "                self.isStationary = True\n",
        "            else:\n",
        "                self.isStationary = False\n",
        "\n",
        "            if printResults:\n",
        "                kpssResults = pd.Series(kpssTest[0:4], index=['KPSS Test Statistic','P-Value','# Lags Used','# Observations Used'])\n",
        "\n",
        "                '''#Add Critical Values\n",
        "                for key,value in kpssTest[4].items():\n",
        "                    dfResults['Critical Value (%s)'%key] = value'''\n",
        "\n",
        "                print('####################################KPSS Test Results:####################################')\n",
        "                print(kpssResults)\n",
        "                print(\"Is the time series stationary? {0}\".format(sTest.isStationary))"
      ],
      "execution_count": 0,
      "outputs": []
    },
    {
      "cell_type": "code",
      "metadata": {
        "id": "qglrb3N66H8T",
        "colab_type": "code",
        "colab": {}
      },
      "source": [
        "def best_arima(df):\n",
        "    # to suppress warnings\n",
        "    warnings.filterwarnings('ignore')\n",
        "\n",
        "    best_aic = np.inf \n",
        "    best_order = None\n",
        "    best_mdl = None\n",
        "\n",
        "    pq_rng = range(5) # [0,1,2,3,4]\n",
        "    d_rng = range(2) # [0,1]\n",
        "    for i in pq_rng:\n",
        "        for d in d_rng:\n",
        "            for j in pq_rng:\n",
        "                try:\n",
        "                    tmp_mdl = smt.ARIMA(df, order=(i,d,j)).fit(\n",
        "                        method='mle', trend='nc'\n",
        "                    )\n",
        "                    tmp_aic = tmp_mdl.aic\n",
        "                    if tmp_aic < best_aic:\n",
        "                        best_aic = tmp_aic\n",
        "                        best_order = (i, d, j)\n",
        "                        best_mdl = tmp_mdl\n",
        "                except: continue\n",
        "    print('aic: {:6.5f} | order: {}'.format(best_aic, best_order))\n",
        "    tsplot(best_mdl.resid, lags=30)\n",
        "    from statsmodels.stats.stattools import jarque_bera\n",
        "\n",
        "    score, pvalue, _, _ = jarque_bera(best_mdl.resid)\n",
        "    if pvalue < 0.05:\n",
        "        print(\"Our residuals are likely not normally distributed.\")\n",
        "    else:\n",
        "        print(\"Our residuals are likely normally distributed.\")\n",
        "    return best_aic, best_order, best_mdl"
      ],
      "execution_count": 0,
      "outputs": []
    },
    {
      "cell_type": "markdown",
      "metadata": {
        "id": "DBD32MdZuKv8",
        "colab_type": "text"
      },
      "source": [
        "#Working with the Data"
      ]
    },
    {
      "cell_type": "code",
      "metadata": {
        "id": "9eI6gbyY6H8V",
        "colab_type": "code",
        "colab": {
          "base_uri": "https://localhost:8080/",
          "height": 237
        },
        "outputId": "fe42a801-f4ec-41f0-8219-1210dc77ac90"
      },
      "source": [
        "# gets the closing price fo HDFC for the past 7 years\n",
        "my_stock = yf.Ticker('^NSEI')\n",
        "my_stock = pd.DataFrame(my_stock.history(start = start, end = end)['Close'])\n",
        "my_stock = my_stock.rename(str.lower, axis = 'columns')\n",
        "my_stock.head()"
      ],
      "execution_count": 7,
      "outputs": [
        {
          "output_type": "execute_result",
          "data": {
            "text/html": [
              "<div>\n",
              "<style scoped>\n",
              "    .dataframe tbody tr th:only-of-type {\n",
              "        vertical-align: middle;\n",
              "    }\n",
              "\n",
              "    .dataframe tbody tr th {\n",
              "        vertical-align: top;\n",
              "    }\n",
              "\n",
              "    .dataframe thead th {\n",
              "        text-align: right;\n",
              "    }\n",
              "</style>\n",
              "<table border=\"1\" class=\"dataframe\">\n",
              "  <thead>\n",
              "    <tr style=\"text-align: right;\">\n",
              "      <th></th>\n",
              "      <th>close</th>\n",
              "    </tr>\n",
              "    <tr>\n",
              "      <th>Date</th>\n",
              "      <th></th>\n",
              "    </tr>\n",
              "  </thead>\n",
              "  <tbody>\n",
              "    <tr>\n",
              "      <th>2007-09-17</th>\n",
              "      <td>4494.65</td>\n",
              "    </tr>\n",
              "    <tr>\n",
              "      <th>2007-09-18</th>\n",
              "      <td>4546.20</td>\n",
              "    </tr>\n",
              "    <tr>\n",
              "      <th>2007-09-19</th>\n",
              "      <td>4732.35</td>\n",
              "    </tr>\n",
              "    <tr>\n",
              "      <th>2007-09-20</th>\n",
              "      <td>4747.55</td>\n",
              "    </tr>\n",
              "    <tr>\n",
              "      <th>2007-09-21</th>\n",
              "      <td>4837.55</td>\n",
              "    </tr>\n",
              "  </tbody>\n",
              "</table>\n",
              "</div>"
            ],
            "text/plain": [
              "              close\n",
              "Date               \n",
              "2007-09-17  4494.65\n",
              "2007-09-18  4546.20\n",
              "2007-09-19  4732.35\n",
              "2007-09-20  4747.55\n",
              "2007-09-21  4837.55"
            ]
          },
          "metadata": {
            "tags": []
          },
          "execution_count": 7
        }
      ]
    },
    {
      "cell_type": "markdown",
      "metadata": {
        "id": "HPM8di6R51T8",
        "colab_type": "text"
      },
      "source": [
        "##Checking for Stationarity"
      ]
    },
    {
      "cell_type": "code",
      "metadata": {
        "id": "RoDT87w1u3WL",
        "colab_type": "code",
        "colab": {
          "base_uri": "https://localhost:8080/",
          "height": 362
        },
        "outputId": "48f3a7f9-59d9-476d-f9cc-35a5c335ccd2"
      },
      "source": [
        "sTest = StationarityTests()\n",
        "#my_stock['daily_ret']=my_stock.close.pct_change(1)\n",
        "sTest.ADF_Stationarity_Test(my_stock.close.dropna(), printResults = True)"
      ],
      "execution_count": 8,
      "outputs": [
        {
          "output_type": "stream",
          "text": [
            "####################################Augmented Dickey-Fuller Test Results:####################################\n",
            "ADF Test Statistic        -0.287236\n",
            "P-Value                    0.927293\n",
            "# Lags Used                7.000000\n",
            "# Observations Used     2918.000000\n",
            "Critical Value (1%)       -3.432593\n",
            "Critical Value (5%)       -2.862531\n",
            "Critical Value (10%)      -2.567298\n",
            "dtype: float64\n",
            "Is the time series stationary? False\n",
            "####################################KPSS Test Results:####################################\n",
            "KPSS Test Statistic                                              9.08004\n",
            "P-Value                                                             0.01\n",
            "# Lags Used                                                           28\n",
            "# Observations Used    {'10%': 0.347, '5%': 0.463, '2.5%': 0.574, '1%...\n",
            "dtype: object\n",
            "Is the time series stationary? True\n"
          ],
          "name": "stdout"
        },
        {
          "output_type": "stream",
          "text": [
            "/usr/local/lib/python3.6/dist-packages/statsmodels/tsa/stattools.py:1709: InterpolationWarning: p-value is smaller than the indicated p-value\n",
            "  warn(\"p-value is smaller than the indicated p-value\", InterpolationWarning)\n"
          ],
          "name": "stderr"
        }
      ]
    },
    {
      "cell_type": "markdown",
      "metadata": {
        "id": "rixmrZR86b8Z",
        "colab_type": "text"
      },
      "source": [
        "##Differencing to make the data stationary\n",
        "\n"
      ]
    },
    {
      "cell_type": "code",
      "metadata": {
        "id": "DYzbrwOv6Wo5",
        "colab_type": "code",
        "colab": {}
      },
      "source": [
        "n_diff_dataset = pd.DataFrame(data=np.diff(np.array(my_stock['close'])))\n",
        "n_diff_dataset.columns = ['close']"
      ],
      "execution_count": 0,
      "outputs": []
    },
    {
      "cell_type": "code",
      "metadata": {
        "id": "qQmCCAni6adj",
        "colab_type": "code",
        "colab": {
          "base_uri": "https://localhost:8080/",
          "height": 362
        },
        "outputId": "6da2570c-3f30-49a0-a705-70b464da2462"
      },
      "source": [
        "sTest.ADF_Stationarity_Test(n_diff_dataset.close.dropna(), printResults = True)"
      ],
      "execution_count": 11,
      "outputs": [
        {
          "output_type": "stream",
          "text": [
            "####################################Augmented Dickey-Fuller Test Results:####################################\n",
            "ADF Test Statistic       -21.221197\n",
            "P-Value                    0.000000\n",
            "# Lags Used                6.000000\n",
            "# Observations Used     2918.000000\n",
            "Critical Value (1%)       -3.432593\n",
            "Critical Value (5%)       -2.862531\n",
            "Critical Value (10%)      -2.567298\n",
            "dtype: float64\n",
            "Is the time series stationary? True\n",
            "####################################KPSS Test Results:####################################\n",
            "KPSS Test Statistic                                             0.073293\n",
            "P-Value                                                              0.1\n",
            "# Lags Used                                                           28\n",
            "# Observations Used    {'10%': 0.347, '5%': 0.463, '2.5%': 0.574, '1%...\n",
            "dtype: object\n",
            "Is the time series stationary? False\n"
          ],
          "name": "stdout"
        },
        {
          "output_type": "stream",
          "text": [
            "/usr/local/lib/python3.6/dist-packages/statsmodels/tsa/stattools.py:1711: InterpolationWarning: p-value is greater than the indicated p-value\n",
            "  warn(\"p-value is greater than the indicated p-value\", InterpolationWarning)\n"
          ],
          "name": "stderr"
        }
      ]
    },
    {
      "cell_type": "code",
      "metadata": {
        "id": "_03Dd8e-6pF2",
        "colab_type": "code",
        "colab": {}
      },
      "source": [
        ""
      ],
      "execution_count": 0,
      "outputs": []
    }
  ]
}