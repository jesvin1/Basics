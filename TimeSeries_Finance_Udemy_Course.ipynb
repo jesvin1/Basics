{
  "nbformat": 4,
  "nbformat_minor": 0,
  "metadata": {
    "colab": {
      "name": "TimeSeries_Finance_Udemy_Course.ipynb",
      "provenance": [],
      "authorship_tag": "ABX9TyOeww1HvmJVxsDdAIRIdJbx",
      "include_colab_link": true
    },
    "kernelspec": {
      "name": "python3",
      "display_name": "Python 3"
    }
  },
  "cells": [
    {
      "cell_type": "markdown",
      "metadata": {
        "id": "view-in-github",
        "colab_type": "text"
      },
      "source": [
        "<a href=\"https://colab.research.google.com/github/jesvin1/Basics/blob/master/TimeSeries_Finance_Udemy_Course.ipynb\" target=\"_parent\"><img src=\"https://colab.research.google.com/assets/colab-badge.svg\" alt=\"Open In Colab\"/></a>"
      ]
    },
    {
      "cell_type": "code",
      "metadata": {
        "id": "-ieCCM8iGiaM",
        "colab_type": "code",
        "colab": {}
      },
      "source": [
        "import fix_yahoo_finance as yf\n",
        "\n",
        "stocks = ['^GSPC','^GDAXI','^FTSE','^N225','^NSEI ']\n",
        "start = datetime.datetime(2012,5,31)\n",
        "end = datetime.datetime(2018,3,1)\n",
        "data = yf.download(stocks, start=start, end=end)"
      ],
      "execution_count": 0,
      "outputs": []
    }
  ]
}